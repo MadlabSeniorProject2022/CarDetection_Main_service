{
 "cells": [
  {
   "cell_type": "code",
   "execution_count": 6,
   "metadata": {},
   "outputs": [],
   "source": [
    "import cv2\n",
    "import time\n",
    "import os\n",
    "from pathlib import Path\n",
    "\n",
    "import concurrent\n",
    "import requests"
   ]
  },
  {
   "cell_type": "code",
   "execution_count": 7,
   "metadata": {},
   "outputs": [],
   "source": [
    "def get_meta(img: cv2.Mat):\n",
    "    image_data = cv2.imencode('.jpg', img)[1].tobytes()\n",
    "    urls = [\n",
    "        \n",
    "        \"https://72c4-34-143-252-179.ngrok.io/useColor\",\n",
    "        \"https://52c7-35-247-181-246.ngrok.io/predict\"\n",
    "    ]\n",
    "\n",
    "    def request_post(url, data):\n",
    "        return requests.post(url, files={\"image\": data}).json()\n",
    "\n",
    "    with concurrent.futures.ThreadPoolExecutor() as executor: # optimally defined number of threads\n",
    "        res = [executor.submit(request_post, url, image_data) for url in urls]\n",
    "        concurrent.futures.wait(res)\n",
    "\n",
    "    return {\"color\": res[0].result()[\"predicted\"], \"model\": res[1].result()[\"predicted\"]}"
   ]
  },
  {
   "cell_type": "code",
   "execution_count": 8,
   "metadata": {},
   "outputs": [],
   "source": [
    "def crop_do (coor, img, conf, cls):\n",
    "    current_time = int(round(time.time() * 1000))\n",
    "    print(current_time)\n",
    "    if not os.path.exists(\"./runs/\"):\n",
    "        os.makedirs(\"./runs/\")\n",
    "    Path(\"./runs/Use1/\").mkdir(parents=True, exist_ok=True)\n",
    "    crop_img = img[ int(coor[1]) : int(coor[3]), int(coor[0]): int(coor[2])]\n",
    "    #result = cv2.resize(crop_img, (640, 640))\n",
    "    #result = cv2.cvtColor(result , cv2.COLOR_RGB2GRAY)\n",
    "    meta = get_meta(crop_img)\n",
    "    print(meta)\n",
    "    font = cv2.FONT_HERSHEY_SIMPLEX\n",
    "    cv2.putText(img, f'Color: {meta[\"color\"]}', (10,80), font, 3, (0, 0, 255), 2, cv2.LINE_AA)\n",
    "    cv2.putText(img, f'Model: {meta[\"model\"]}', (10,160), font, 3, (0, 0, 255), 2, cv2.LINE_AA)\n",
    "    cv2.imwrite(\"./runs/Use1/img\" + str(current_time) + \".jpg\", img)"
   ]
  },
  {
   "cell_type": "code",
   "execution_count": 9,
   "metadata": {},
   "outputs": [
    {
     "name": "stderr",
     "output_type": "stream",
     "text": [
      "YOLOR  3736f7b torch 1.9.0+cu111 CUDA:0 (NVIDIA GeForce RTX 3060 Ti, 8191.375MB)\n",
      "\n"
     ]
    },
    {
     "name": "stdout",
     "output_type": "stream",
     "text": [
      "Fusing layers... \n"
     ]
    },
    {
     "name": "stderr",
     "output_type": "stream",
     "text": [
      "Model Summary: 306 layers, 36905341 parameters, 36905341 gradients, 104.5 GFLOPS\n"
     ]
    },
    {
     "name": "stdout",
     "output_type": "stream",
     "text": [
      "RepConv.fuse_repvgg_block\n",
      "RepConv.fuse_repvgg_block\n",
      "RepConv.fuse_repvgg_block\n",
      " Convert model to Traced-model... \n",
      " traced_script_module saved! \n",
      " model is traced! \n",
      "\n"
     ]
    }
   ],
   "source": [
    "from lean_detect import UseModel\n",
    "veh = UseModel(\"yolov7.pt\", detect_class=[2, 5, 7], confident=0.75)"
   ]
  },
  {
   "cell_type": "code",
   "execution_count": 10,
   "metadata": {},
   "outputs": [
    {
     "name": "stdout",
     "output_type": "stream",
     "text": [
      "1676910856195\n",
      "{'color': 'Black', 'model': 'Mazda2'}\n",
      "1676910878825\n",
      "{'color': 'White', 'model': 'yaris_old'}\n",
      "1676910890839\n",
      "{'color': 'Grey', 'model': 'unknown'}\n",
      "1676910917750\n",
      "{'color': 'Bronze', 'model': 'e150'}\n",
      "1676910956913\n",
      "{'color': 'Black', 'model': 'unknown'}\n",
      "1676910972707\n",
      "{'color': 'Blue', 'model': 'unknown'}\n",
      "1676910984259\n",
      "{'color': 'Brown', 'model': 'acv70'}\n",
      "1676911044339\n",
      "{'color': 'Black', 'model': 'yaris_mama'}\n",
      "1676911066751\n",
      "{'color': 'Black', 'model': 'civic_fc'}\n",
      "1676911078366\n",
      "{'color': 'Black', 'model': 'unknown'}\n",
      "1676911153672\n",
      "{'color': 'Blue', 'model': 'e160'}\n",
      "1676911188745\n",
      "{'color': 'White', 'model': 'rt50'}\n",
      "1676911225722\n",
      "{'color': 'Grey', 'model': 'unknown'}\n",
      "1676911246312\n",
      "{'color': 'Grey', 'model': 'unknown'}\n",
      "1676911267000\n",
      "{'color': 'Grey', 'model': 'unknown'}\n",
      "1676911281245\n",
      "{'color': 'Black', 'model': 'Mazda2'}\n",
      "1676911288581\n",
      "{'color': 'Black', 'model': 'unknown'}\n",
      "1676911293145\n",
      "{'color': 'Black', 'model': 'unknown'}\n",
      "1676911295670\n",
      "{'color': 'Brown', 'model': 'unknown'}\n",
      "1676911352924\n",
      "{'color': 'Blue', 'model': 'e160b'}\n",
      "1676911435898\n",
      "{'color': 'Black', 'model': 'unknown'}\n",
      "1676911476554\n",
      "{'color': 'Grey', 'model': 'unknown'}\n",
      "1676911527869\n",
      "{'color': 'White', 'model': 'unknown'}\n",
      "1676911551042\n",
      "{'color': 'Black', 'model': 'Mazda2'}\n",
      "1676911563298\n",
      "{'color': 'Black', 'model': 'Mazda2'}\n",
      "1676911604473\n",
      "{'color': 'White', 'model': 'unknown'}\n",
      "1676911627097\n",
      "{'color': 'Black', 'model': 'unknown'}\n",
      "1676911656132\n",
      "{'color': 'TAXI', 'model': 'unknown'}\n",
      "1676911669080\n",
      "{'color': 'Blue', 'model': 'unknown'}\n",
      "1676911682006\n",
      "{'color': 'Grey', 'model': 'unknown'}\n",
      "1676911734972\n",
      "{'color': 'Black', 'model': 'unknown'}\n",
      "1676911755934\n",
      "{'color': 'White', 'model': 'unknown'}\n",
      "1676911772632\n",
      "{'color': 'Black', 'model': 'unknown'}\n",
      "1676911800143\n",
      "{'color': 'Grey', 'model': 'unknown'}\n",
      "1676911827448\n",
      "{'color': 'Black', 'model': 'civic_fc'}\n",
      "1676911883572\n",
      "{'color': 'Black', 'model': 'unknown'}\n",
      "1676911967412\n",
      "{'color': 'Black', 'model': 'e160b'}\n",
      "1676911988058\n",
      "{'color': 'TAXI', 'model': 'unknown'}\n",
      "1676911990424\n",
      "{'color': 'TAXI', 'model': 'unknown'}\n",
      "1676911992871\n",
      "{'color': 'Yellow', 'model': 'unknown'}\n",
      "1676911998016\n",
      "{'color': 'White', 'model': 'unknown'}\n",
      "1676912028386\n",
      "{'color': 'Black', 'model': 'unknown'}\n"
     ]
    }
   ],
   "source": [
    "veh.detect(\"./clips/use001.MP4\" , do_function=crop_do)"
   ]
  },
  {
   "attachments": {},
   "cell_type": "markdown",
   "metadata": {},
   "source": [
    "# Google storage"
   ]
  },
  {
   "cell_type": "code",
   "execution_count": 1,
   "metadata": {},
   "outputs": [
    {
     "name": "stdout",
     "output_type": "stream",
     "text": [
      "Requirement already satisfied: google-cloud in /opt/anaconda3/lib/python3.9/site-packages (0.34.0)\n"
     ]
    }
   ],
   "source": [
    "! pip install google-cloud"
   ]
  },
  {
   "cell_type": "code",
   "execution_count": 2,
   "metadata": {},
   "outputs": [],
   "source": [
    "from google.cloud import storage\n",
    "import os\n",
    "\n",
    "os.environ[\"GOOGLE_APPLICATION_CREDENTIALS\"] = r'./carrgclassification-857e3c375cdd.json'\n",
    "\n",
    "def upload_cs_file(bucket_name, source_file_name, destination_file_name): \n",
    "    storage_client = storage.Client()\n",
    "\n",
    "    bucket = storage_client.bucket(bucket_name)\n",
    "\n",
    "    blob = bucket.blob(destination_file_name)\n",
    "    blob.upload_from_filename(source_file_name)"
   ]
  },
  {
   "cell_type": "code",
   "execution_count": null,
   "metadata": {},
   "outputs": [],
   "source": [
    "import datetime\n",
    "\n",
    "def get_cs_file_url(bucket_name, file_name, expire_in=datetime.today() + datetime.timedelta(4000)): \n",
    "    storage_client = storage.Client()\n",
    "\n",
    "    bucket = storage_client.bucket(bucket_name)\n",
    "    url = bucket.blob(file_name).generate_signed_url(expire_in)\n",
    "\n",
    "    return url"
   ]
  },
  {
   "cell_type": "code",
   "execution_count": 3,
   "metadata": {},
   "outputs": [],
   "source": [
    "upload_cs_file('images-bucks', \"./DemoCase/img1676910856195.jpg\", \"test.jpg\")"
   ]
  }
 ],
 "metadata": {
  "kernelspec": {
   "display_name": "base",
   "language": "python",
   "name": "python3"
  },
  "language_info": {
   "codemirror_mode": {
    "name": "ipython",
    "version": 3
   },
   "file_extension": ".py",
   "mimetype": "text/x-python",
   "name": "python",
   "nbconvert_exporter": "python",
   "pygments_lexer": "ipython3",
   "version": "3.9.12"
  },
  "orig_nbformat": 4,
  "vscode": {
   "interpreter": {
    "hash": "40d3a090f54c6569ab1632332b64b2c03c39dcf918b08424e98f38b5ae0af88f"
   }
  }
 },
 "nbformat": 4,
 "nbformat_minor": 2
}
