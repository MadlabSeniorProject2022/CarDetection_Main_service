{
 "cells": [
  {
   "cell_type": "code",
   "execution_count": 16,
   "metadata": {},
   "outputs": [],
   "source": [
    "import cv2\n",
    "import time\n",
    "import os\n",
    "from pathlib import Path\n",
    "\n",
    "import concurrent\n",
    "import requests"
   ]
  },
  {
   "cell_type": "code",
   "execution_count": 17,
   "metadata": {},
   "outputs": [],
   "source": [
    "def get_meta(img: cv2.Mat):\n",
    "    image_data = cv2.imencode('.jpg', img)[1].tobytes()\n",
    "    urls = [\n",
    "        \n",
    "        \"https://72c4-34-143-252-179.ngrok.io/useColor\",\n",
    "        \"https://52c7-35-247-181-246.ngrok.io/predict\"\n",
    "    ]\n",
    "\n",
    "    def request_post(url, data):\n",
    "        return requests.post(url, files={\"image\": data}).json()\n",
    "\n",
    "    with concurrent.futures.ThreadPoolExecutor() as executor: # optimally defined number of threads\n",
    "        res = [executor.submit(request_post, url, image_data) for url in urls]\n",
    "        concurrent.futures.wait(res)\n",
    "\n",
    "    return {\"color\": res[0].result()[\"predicted\"], \"model\": res[1].result()[\"predicted\"]}"
   ]
  },
  {
   "cell_type": "code",
   "execution_count": 8,
   "metadata": {},
   "outputs": [],
   "source": [
    "def crop_do (coor, img, conf, cls):\n",
    "    current_time = int(round(time.time() * 1000))\n",
    "    print(current_time)\n",
    "    if not os.path.exists(\"./runs/\"):\n",
    "        os.makedirs(\"./runs/\")\n",
    "    Path(\"./runs/Use1/\").mkdir(parents=True, exist_ok=True)\n",
    "    crop_img = img[ int(coor[1]) : int(coor[3]), int(coor[0]): int(coor[2])]\n",
    "    #result = cv2.resize(crop_img, (640, 640))\n",
    "    #result = cv2.cvtColor(result , cv2.COLOR_RGB2GRAY)\n",
    "    meta = get_meta(crop_img)\n",
    "    print(meta)\n",
    "    font = cv2.FONT_HERSHEY_SIMPLEX\n",
    "    cv2.putText(img, f'Color: {meta[\"color\"]}', (10,80), font, 3, (0, 0, 255), 2, cv2.LINE_AA)\n",
    "    cv2.putText(img, f'Model: {meta[\"model\"]}', (10,160), font, 3, (0, 0, 255), 2, cv2.LINE_AA)\n",
    "    cv2.imwrite(\"./runs/Use1/img\" + str(current_time) + \".jpg\", img)"
   ]
  },
  {
   "cell_type": "code",
   "execution_count": 19,
   "metadata": {},
   "outputs": [
    {
     "name": "stderr",
     "output_type": "stream",
     "text": [
      "YOLOR 🚀 2022-12-7 torch 1.12.1 CPU\n",
      "\n"
     ]
    },
    {
     "name": "stdout",
     "output_type": "stream",
     "text": [
      "Fusing layers... \n",
      "RepConv.fuse_repvgg_block\n",
      "RepConv.fuse_repvgg_block\n",
      "RepConv.fuse_repvgg_block\n"
     ]
    },
    {
     "name": "stderr",
     "output_type": "stream",
     "text": [
      "[W NNPACK.cpp:51] Could not initialize NNPACK! Reason: Unsupported hardware.\n",
      "Model Summary: 306 layers, 36905341 parameters, 36905341 gradients\n",
      "/opt/anaconda3/lib/python3.9/site-packages/torch/_tensor.py:1083: UserWarning: The .grad attribute of a Tensor that is not a leaf Tensor is being accessed. Its .grad attribute won't be populated during autograd.backward(). If you indeed want the .grad field to be populated for a non-leaf Tensor, use .retain_grad() on the non-leaf Tensor. If you access the non-leaf Tensor by mistake, make sure you access the leaf Tensor instead. See github.com/pytorch/pytorch/pull/30531 for more informations. (Triggered internally at  /Users/runner/work/pytorch/pytorch/pytorch/build/aten/src/ATen/core/TensorBody.h:482.)\n",
      "  return self._grad\n"
     ]
    },
    {
     "name": "stdout",
     "output_type": "stream",
     "text": [
      " Convert model to Traced-model... \n",
      " traced_script_module saved! \n",
      " model is traced! \n",
      "\n"
     ]
    }
   ],
   "source": [
    "from lean_detect import UseModel\n",
    "veh = UseModel(\"yolov7.pt\", detect_class=[2, 5, 7], confident=0.75)"
   ]
  },
  {
   "cell_type": "code",
   "execution_count": 10,
   "metadata": {},
   "outputs": [
    {
     "name": "stdout",
     "output_type": "stream",
     "text": [
      "1676910856195\n",
      "{'color': 'Black', 'model': 'Mazda2'}\n",
      "1676910878825\n",
      "{'color': 'White', 'model': 'yaris_old'}\n",
      "1676910890839\n",
      "{'color': 'Grey', 'model': 'unknown'}\n",
      "1676910917750\n",
      "{'color': 'Bronze', 'model': 'e150'}\n",
      "1676910956913\n",
      "{'color': 'Black', 'model': 'unknown'}\n",
      "1676910972707\n",
      "{'color': 'Blue', 'model': 'unknown'}\n",
      "1676910984259\n",
      "{'color': 'Brown', 'model': 'acv70'}\n",
      "1676911044339\n",
      "{'color': 'Black', 'model': 'yaris_mama'}\n",
      "1676911066751\n",
      "{'color': 'Black', 'model': 'civic_fc'}\n",
      "1676911078366\n",
      "{'color': 'Black', 'model': 'unknown'}\n",
      "1676911153672\n",
      "{'color': 'Blue', 'model': 'e160'}\n",
      "1676911188745\n",
      "{'color': 'White', 'model': 'rt50'}\n",
      "1676911225722\n",
      "{'color': 'Grey', 'model': 'unknown'}\n",
      "1676911246312\n",
      "{'color': 'Grey', 'model': 'unknown'}\n",
      "1676911267000\n",
      "{'color': 'Grey', 'model': 'unknown'}\n",
      "1676911281245\n",
      "{'color': 'Black', 'model': 'Mazda2'}\n",
      "1676911288581\n",
      "{'color': 'Black', 'model': 'unknown'}\n",
      "1676911293145\n",
      "{'color': 'Black', 'model': 'unknown'}\n",
      "1676911295670\n",
      "{'color': 'Brown', 'model': 'unknown'}\n",
      "1676911352924\n",
      "{'color': 'Blue', 'model': 'e160b'}\n",
      "1676911435898\n",
      "{'color': 'Black', 'model': 'unknown'}\n",
      "1676911476554\n",
      "{'color': 'Grey', 'model': 'unknown'}\n",
      "1676911527869\n",
      "{'color': 'White', 'model': 'unknown'}\n",
      "1676911551042\n",
      "{'color': 'Black', 'model': 'Mazda2'}\n",
      "1676911563298\n",
      "{'color': 'Black', 'model': 'Mazda2'}\n",
      "1676911604473\n",
      "{'color': 'White', 'model': 'unknown'}\n",
      "1676911627097\n",
      "{'color': 'Black', 'model': 'unknown'}\n",
      "1676911656132\n",
      "{'color': 'TAXI', 'model': 'unknown'}\n",
      "1676911669080\n",
      "{'color': 'Blue', 'model': 'unknown'}\n",
      "1676911682006\n",
      "{'color': 'Grey', 'model': 'unknown'}\n",
      "1676911734972\n",
      "{'color': 'Black', 'model': 'unknown'}\n",
      "1676911755934\n",
      "{'color': 'White', 'model': 'unknown'}\n",
      "1676911772632\n",
      "{'color': 'Black', 'model': 'unknown'}\n",
      "1676911800143\n",
      "{'color': 'Grey', 'model': 'unknown'}\n",
      "1676911827448\n",
      "{'color': 'Black', 'model': 'civic_fc'}\n",
      "1676911883572\n",
      "{'color': 'Black', 'model': 'unknown'}\n",
      "1676911967412\n",
      "{'color': 'Black', 'model': 'e160b'}\n",
      "1676911988058\n",
      "{'color': 'TAXI', 'model': 'unknown'}\n",
      "1676911990424\n",
      "{'color': 'TAXI', 'model': 'unknown'}\n",
      "1676911992871\n",
      "{'color': 'Yellow', 'model': 'unknown'}\n",
      "1676911998016\n",
      "{'color': 'White', 'model': 'unknown'}\n",
      "1676912028386\n",
      "{'color': 'Black', 'model': 'unknown'}\n"
     ]
    }
   ],
   "source": [
    "veh.detect(\"./clips/use001.MP4\" , do_function=crop_do)"
   ]
  },
  {
   "attachments": {},
   "cell_type": "markdown",
   "metadata": {},
   "source": [
    "# Google storage"
   ]
  },
  {
   "cell_type": "code",
   "execution_count": 5,
   "metadata": {},
   "outputs": [
    {
     "name": "stdout",
     "output_type": "stream",
     "text": [
      "Collecting google-cloud\n",
      "  Using cached google_cloud-0.34.0-py2.py3-none-any.whl (1.8 kB)\n",
      "Installing collected packages: google-cloud\n",
      "Successfully installed google-cloud-0.34.0\n",
      "Requirement already satisfied: pymongo in c:\\users\\ppunn\\anaconda3\\lib\\site-packages (4.3.3)\n",
      "Requirement already satisfied: dnspython<3.0.0,>=1.16.0 in c:\\users\\ppunn\\anaconda3\\lib\\site-packages (from pymongo) (2.3.0)\n"
     ]
    }
   ],
   "source": [
    "! pip install google-cloud\n",
    "! pip install pymongo"
   ]
  },
  {
   "cell_type": "code",
   "execution_count": 2,
   "metadata": {},
   "outputs": [],
   "source": [
    "from google.cloud import storage\n",
    "import os\n",
    "\n",
    "os.environ[\"GOOGLE_APPLICATION_CREDENTIALS\"] = r'./carrgclassification-857e3c375cdd.json'\n",
    "\n",
    "def upload_cs_file(bucket_name, source_file_name, destination_file_name): \n",
    "    storage_client = storage.Client()\n",
    "\n",
    "    bucket = storage_client.bucket(bucket_name)\n",
    "\n",
    "    blob = bucket.blob(destination_file_name)\n",
    "    blob.upload_from_filename(source_file_name)"
   ]
  },
  {
   "cell_type": "code",
   "execution_count": 7,
   "metadata": {},
   "outputs": [],
   "source": [
    "import datetime\n",
    "\n",
    "def get_cs_file_url(bucket_name, file_name, expire_in=datetime.datetime.now() + datetime.timedelta(4000)): \n",
    "    storage_client = storage.Client()\n",
    "\n",
    "    bucket = storage_client.bucket(bucket_name)\n",
    "    url = bucket.blob(file_name).generate_signed_url(expire_in)\n",
    "\n",
    "    return url"
   ]
  },
  {
   "cell_type": "code",
   "execution_count": 3,
   "metadata": {},
   "outputs": [],
   "source": [
    "upload_cs_file('images-bucks', \"./DemoCase/img1676910856195.jpg\", \"test.jpg\")"
   ]
  },
  {
   "cell_type": "code",
   "execution_count": 10,
   "metadata": {},
   "outputs": [
    {
     "data": {
      "text/plain": [
       "'https://storage.googleapis.com/images-bucks/test.jpg?Expires=2022666100&GoogleAccessId=image-buck-sa%40carrgclassification.iam.gserviceaccount.com&Signature=cvXJubE%2BArPl2Z%2FrgmTN8pIU8w54gBJgVjd2roEXdUrm%2B2sbWpjVj%2FPF5R%2FFlXepsrQk4umm1gJ2Fm2qWi8nHW8XGyXoijH24%2F4p70ouiIj9UrS4M9twTlR0dEpb6w%2FAEyTWZK9yU2irtFpVClltdWgDA4TCTt8YBVSg5g%2BbRqaX5y3wlPRV16fdfqaZGzEVrYHtSn%2B8V%2FuCR2097ymAYBpOuSOYTl1hP6e07EprNFqC4ALQ3vP%2B3HFvXTVkC0ZziviE54m%2FIa1SaHUuSgPyYpCxahOAbYNBR6mcbsuo57oLQ9fEqhugVzjENkohyEEmXWcR9wkYORLDiRRUFHokjQ%3D%3D'"
      ]
     },
     "execution_count": 10,
     "metadata": {},
     "output_type": "execute_result"
    }
   ],
   "source": [
    "url = get_cs_file_url('images-bucks', \"test.jpg\")\n",
    "url"
   ]
  },
  {
   "cell_type": "code",
   "execution_count": 20,
   "metadata": {},
   "outputs": [],
   "source": [
    "import database as db"
   ]
  },
  {
   "cell_type": "code",
   "execution_count": 21,
   "metadata": {},
   "outputs": [],
   "source": [
    "import json\n",
    " \n",
    "# Opening JSON file\n",
    "with open('car_meta.json') as json_file:\n",
    "    car_meta = json.load(json_file)"
   ]
  },
  {
   "cell_type": "code",
   "execution_count": 23,
   "metadata": {},
   "outputs": [],
   "source": [
    "def cloud_image (bucket_name, source_file_name, destination_file_name):\n",
    "    upload_cs_file(bucket_name, source_file_name, destination_file_name)\n",
    "    url = get_cs_file_url(bucket_name, destination_file_name)\n",
    "    return url\n"
   ]
  },
  {
   "cell_type": "code",
   "execution_count": 24,
   "metadata": {},
   "outputs": [],
   "source": [
    "def crop_do (coor, img, conf, cls):\n",
    "    current_time = int(round(time.time() * 1000))\n",
    "    print(current_time)\n",
    "    if not os.path.exists(\"./runs/\"):\n",
    "        os.makedirs(\"./runs/\")\n",
    "    Path(\"./runs/Use1/\").mkdir(parents=True, exist_ok=True)\n",
    "    crop_img = img[ int(coor[1]) : int(coor[3]), int(coor[0]): int(coor[2])]\n",
    "    #result = cv2.resize(crop_img, (640, 640))\n",
    "    #result = cv2.cvtColor(result , cv2.COLOR_RGB2GRAY)\n",
    "    meta = get_meta(crop_img)\n",
    "    print(meta)\n",
    "    car_detail = car_meta[meta[\"model\"]]\n",
    "    print(car_detail)\n",
    "    cv2.imwrite(f\"./runs/Use1/{current_time}.jpg\", img)\n",
    "    origin_img_path = cloud_image('images-bucks', f\"./runs/Use1/{current_time}.jpg\", f'{current_time}-origin.jpg')\n",
    "    cv2.imwrite(f\"./runs/Use1/{current_time}-crop.jpg\", crop_img)\n",
    "    crop_img_path = cloud_image('images-bucks', f\"./runs/Use1/{current_time}-crop.jpg\", f'{current_time}-crop.jpg')\n",
    "\n",
    "    db.update_data(car_detail[\"make\"], car_detail[\"model\"], car_detail[\"class\"], \"Unknown\", meta[\"color\"], origin_img_path, None, crop_img_path)\n",
    "    "
   ]
  },
  {
   "cell_type": "code",
   "execution_count": 22,
   "metadata": {},
   "outputs": [
    {
     "ename": "Exception",
     "evalue": "ERROR: /Users/thisisthanick/Library/Mobile Documents/com~apple~CloudDocs/Dev/CarDetection_WebApp/clips/use001.MP4 does not exist",
     "output_type": "error",
     "traceback": [
      "\u001b[0;31m---------------------------------------------------------------------------\u001b[0m",
      "\u001b[0;31mException\u001b[0m                                 Traceback (most recent call last)",
      "\u001b[1;32m/Users/thisisthanick/Library/Mobile Documents/com~apple~CloudDocs/Dev/CarDetection_WebApp/full_flow.ipynb Cell 15\u001b[0m in \u001b[0;36m<cell line: 1>\u001b[0;34m()\u001b[0m\n\u001b[0;32m----> <a href='vscode-notebook-cell:/Users/thisisthanick/Library/Mobile%20Documents/com~apple~CloudDocs/Dev/CarDetection_WebApp/full_flow.ipynb#X20sZmlsZQ%3D%3D?line=0'>1</a>\u001b[0m veh\u001b[39m.\u001b[39;49mdetect(\u001b[39m\"\u001b[39;49m\u001b[39m./clips/use001.MP4\u001b[39;49m\u001b[39m\"\u001b[39;49m , do_function\u001b[39m=\u001b[39;49mcrop_do)\n",
      "File \u001b[0;32m~/Library/Mobile Documents/com~apple~CloudDocs/Dev/CarDetection_WebApp/lean_detect.py:45\u001b[0m, in \u001b[0;36mUseModel.detect\u001b[0;34m(self, source, do_function)\u001b[0m\n\u001b[1;32m     43\u001b[0m old_img_w \u001b[39m=\u001b[39m old_img_h \u001b[39m=\u001b[39m \u001b[39mself\u001b[39m\u001b[39m.\u001b[39mnorm_size\n\u001b[1;32m     44\u001b[0m old_img_b \u001b[39m=\u001b[39m \u001b[39m1\u001b[39m\n\u001b[0;32m---> 45\u001b[0m dataset \u001b[39m=\u001b[39m LoadImages(source, img_size\u001b[39m=\u001b[39;49m\u001b[39mself\u001b[39;49m\u001b[39m.\u001b[39;49mnorm_size, stride\u001b[39m=\u001b[39;49m\u001b[39mself\u001b[39;49m\u001b[39m.\u001b[39;49mstride)\n\u001b[1;32m     46\u001b[0m have: \u001b[39mbool\u001b[39m \u001b[39m=\u001b[39m \u001b[39mFalse\u001b[39;00m\n\u001b[1;32m     47\u001b[0m \u001b[39mfor\u001b[39;00m path, img, im0s, vid_cap \u001b[39min\u001b[39;00m dataset:\n",
      "File \u001b[0;32m~/Library/Mobile Documents/com~apple~CloudDocs/Dev/CarDetection_WebApp/utils/datasets.py:138\u001b[0m, in \u001b[0;36mLoadImages.__init__\u001b[0;34m(self, path, img_size, stride)\u001b[0m\n\u001b[1;32m    136\u001b[0m     files \u001b[39m=\u001b[39m [p]  \u001b[39m# files\u001b[39;00m\n\u001b[1;32m    137\u001b[0m \u001b[39melse\u001b[39;00m:\n\u001b[0;32m--> 138\u001b[0m     \u001b[39mraise\u001b[39;00m \u001b[39mException\u001b[39;00m(\u001b[39mf\u001b[39m\u001b[39m'\u001b[39m\u001b[39mERROR: \u001b[39m\u001b[39m{\u001b[39;00mp\u001b[39m}\u001b[39;00m\u001b[39m does not exist\u001b[39m\u001b[39m'\u001b[39m)\n\u001b[1;32m    140\u001b[0m images \u001b[39m=\u001b[39m [x \u001b[39mfor\u001b[39;00m x \u001b[39min\u001b[39;00m files \u001b[39mif\u001b[39;00m x\u001b[39m.\u001b[39msplit(\u001b[39m'\u001b[39m\u001b[39m.\u001b[39m\u001b[39m'\u001b[39m)[\u001b[39m-\u001b[39m\u001b[39m1\u001b[39m]\u001b[39m.\u001b[39mlower() \u001b[39min\u001b[39;00m img_formats]\n\u001b[1;32m    141\u001b[0m videos \u001b[39m=\u001b[39m [x \u001b[39mfor\u001b[39;00m x \u001b[39min\u001b[39;00m files \u001b[39mif\u001b[39;00m x\u001b[39m.\u001b[39msplit(\u001b[39m'\u001b[39m\u001b[39m.\u001b[39m\u001b[39m'\u001b[39m)[\u001b[39m-\u001b[39m\u001b[39m1\u001b[39m]\u001b[39m.\u001b[39mlower() \u001b[39min\u001b[39;00m vid_formats]\n",
      "\u001b[0;31mException\u001b[0m: ERROR: /Users/thisisthanick/Library/Mobile Documents/com~apple~CloudDocs/Dev/CarDetection_WebApp/clips/use001.MP4 does not exist"
     ]
    }
   ],
   "source": [
    "veh.detect(\"./clips/use001.MP4\" , do_function=crop_do)"
   ]
  },
  {
   "cell_type": "code",
   "execution_count": 1,
   "metadata": {},
   "outputs": [
    {
     "name": "stderr",
     "output_type": "stream",
     "text": [
      "YOLOR  e4c417a torch 1.9.0+cu111 CUDA:0 (NVIDIA GeForce RTX 3060 Ti, 8191.375MB)\n",
      "\n"
     ]
    },
    {
     "name": "stdout",
     "output_type": "stream",
     "text": [
      "Fusing layers... \n",
      "RepConv.fuse_repvgg_block\n",
      "RepConv.fuse_repvgg_block\n",
      "RepConv.fuse_repvgg_block\n"
     ]
    },
    {
     "name": "stderr",
     "output_type": "stream",
     "text": [
      "c:\\Users\\PPUNN\\anaconda3\\lib\\site-packages\\torch\\nn\\functional.py:718: UserWarning: Named tensors and all their associated APIs are an experimental feature and subject to change. Please do not use them for anything important until they are released as stable. (Triggered internally at  ..\\c10/core/TensorImpl.h:1156.)\n",
      "  return torch.max_pool2d(input, kernel_size, stride, padding, dilation, ceil_mode)\n",
      "Model Summary: 306 layers, 36905341 parameters, 36905341 gradients, 104.5 GFLOPS\n",
      "c:\\Users\\PPUNN\\anaconda3\\lib\\site-packages\\torch\\nn\\modules\\module.py:561: UserWarning: The .grad attribute of a Tensor that is not a leaf Tensor is being accessed. Its .grad attribute won't be populated during autograd.backward(). If you indeed want the gradient for a non-leaf Tensor, use .retain_grad() on the non-leaf Tensor. If you access the non-leaf Tensor by mistake, make sure you access the leaf Tensor instead. See github.com/pytorch/pytorch/pull/30531 for more information.\n",
      "  if param.grad is not None:\n"
     ]
    },
    {
     "name": "stdout",
     "output_type": "stream",
     "text": [
      " Convert model to Traced-model... \n",
      " traced_script_module saved! \n",
      " model is traced! \n",
      "\n"
     ]
    }
   ],
   "source": [
    "from detect_flow import detect_flow"
   ]
  },
  {
   "cell_type": "code",
   "execution_count": 2,
   "metadata": {},
   "outputs": [
    {
     "name": "stdout",
     "output_type": "stream",
     "text": [
      "1677695255777\n",
      "{'color': 'Black', 'model': 'Mazda2', 'possible': [{'class': 'Mazda2', 'conf': 0.7645111680030823}, {'class': 'corolla_cross', 'conf': 0.023793384432792664}, {'class': 'acv40', 'conf': 0.022760875523090363}, {'class': 'e160b', 'conf': 0.020936021581292152}, {'class': 'e150', 'conf': 0.019416043534874916}], 'plate_num': '7กล838', 'plate_url': 'https://storage.googleapis.com/images-bucks/16776952590673-plate.jpg?Expires=2023201118&GoogleAccessId=image-buck-sa%40carrgclassification.iam.gserviceaccount.com&Signature=V9BR9V38xKpbH4gogz9iumA4vPQZmQw0G1fAWjuVF6XCSyPzOdeqHgXXXK6DppByLXwlZQjmkpAeNY0KoDvzWUqGhTAqHPinyEonLPX5D304G9zz7OC8moZtBjppkfjNpO7PAt5x1KmecRlsYjzFc%2BkwdpB1I%2BoN18MKVq2GUr9Vnz3AxW1dM%2BCmYvcs%2FL8XYvSmAvSB0JCFPGFZ1VIypVDE9kl47pKv3hFqfg9l48P2%2F%2FU32djR3YrHT9p1GPGqe2SItAS9pqXauUa76eBFWTmC2qE7ZUWnG0v1WlU4aq8kIWyIczKmvaQNdfyVXU4Ozned%2FRLLPswJlqvgSSV9zg%3D%3D'}\n",
      "{'make': 'Mazda', 'model': 'Mazda 2', 'class': 'Eco'}\n",
      "<pymongo.results.InsertOneResult object at 0x000001EB6F723EB0>\n",
      "1677695283814\n",
      "{'color': 'White', 'model': 'yaris_old', 'possible': [{'class': 'yaris_old', 'conf': 0.4251813590526581}, {'class': 'swiift_ajp', 'conf': 0.08732747286558151}, {'class': 'acv40', 'conf': 0.05709800124168396}, {'class': 'e150', 'conf': 0.05198241025209427}, {'class': 'acv70', 'conf': 0.04844885319471359}], 'plate_num': 'ล655', 'plate_url': 'https://storage.googleapis.com/images-bucks/16776952870173-plate.jpg?Expires=2023201118&GoogleAccessId=image-buck-sa%40carrgclassification.iam.gserviceaccount.com&Signature=imU67OvvfKAnRhtzsxhuINKNm4OEjCaIf8B4bD2lqpZLuJQlgJVoMZ5jOKEX%2BhcsxqMYhqsWg9nlmFmz%2BtXQmk5i5ZDTE%2BDcCkAdy1qbtVapim6OwE3pL%2BLKBsTlRI3yCWVHIGijEucyLbnKXN3cwN%2BJ1%2BppXOfrazWI5SZCUhbtfKR%2FkiaIEVTYMNWXQ6RysQc5YDjjDRxz3%2B0npN7PoLp6HQA8DfwNjSDugV9SFmgp%2Fc%2BhyEN4zdyY6lwLJjciq7fJf4SlvJvQTDyizJ%2FAu4Da5atiDUthfhhZWVacx1sIVm0d%2BmRgBnIjwFZeXP9BiCW6rGiKHL166maCq%2FZbjg%3D%3D'}\n",
      "{'make': 'Toyota', 'model': 'Yaris', 'class': 'Eco'}\n",
      "<pymongo.results.InsertOneResult object at 0x000001EB2F5EBE50>\n",
      "1677695298248\n",
      "{'color': 'Grey', 'model': 'unknown', 'possible': [{'class': 'e150', 'conf': 0.16201791167259216}, {'class': 'e160b', 'conf': 0.15363986790180206}, {'class': 'city_jimmy', 'conf': 0.10768573731184006}, {'class': 'acv40', 'conf': 0.103334441781044}, {'class': 'Mazda2', 'conf': 0.06592260301113129}], 'plate_num': 'ลม5888', 'plate_url': 'https://storage.googleapis.com/images-bucks/16776953013191-plate.jpg?Expires=2023201118&GoogleAccessId=image-buck-sa%40carrgclassification.iam.gserviceaccount.com&Signature=JZ4k9oZTLsFprCfznIGDRa54buuR0hAHvprIfI7KvJ%2BBk%2Bs0eTisaaLJhAHjXhr5z4Etnbs3BKDesS6Il2mYDMEgCZ0OAs4wpg%2FqSWy8AnIxouWD3%2BsvVzDRxZDybVs9GA2PXtrVMsGHSx0KwBQxItVfHT7IQlZJe03d6tKmLd5Jv%2FvBRjHAAmSnuFE3F7KG0u%2BVP1bwNyn%2BIxiJX%2BYAPMzbqIUWwjTJXubFVVjTkqbX4psQA6nbzkUwiuWf4xijv54hF9vu1KP18UXeCoewHK6MzQp8r6U3upxA6DSOMQrzd1iARryLchsftGg1h%2FJVEoR7zm6UpCO06G9gepChNw%3D%3D'}\n",
      "{'make': 'Unknown', 'model': 'Unknown', 'class': 'Unknown'}\n",
      "<pymongo.results.InsertOneResult object at 0x000001EB2F5EB700>\n",
      "1677695328657\n",
      "{'color': 'Bronze', 'model': 'e150', 'possible': [{'class': 'e150', 'conf': 0.6985542178153992}, {'class': 'city_jimmy', 'conf': 0.041983481496572495}, {'class': 'Mazda2', 'conf': 0.03696988895535469}, {'class': 'acv40', 'conf': 0.027277301996946335}, {'class': 'e160b', 'conf': 0.026228485628962517}], 'plate_num': 'พ24', 'plate_url': 'https://storage.googleapis.com/images-bucks/16776953316944-plate.jpg?Expires=2023201118&GoogleAccessId=image-buck-sa%40carrgclassification.iam.gserviceaccount.com&Signature=DfL%2FhHfhvYbR6nNopmYoRtKxfNx7ZyHp2a4MB4i9jk7CfMFDSenHaklWTXaGxFN01T8Cc3o%2FUygyz3CMF6wfNw%2BGmjILj67uZhQqVuDi2nS4aCO67QDlLX0xBtCtffIP%2Bzz5jQ5TB7gdHrwowmck31jJF0GTpPPbNyeO9wyKcs72sVHxgu%2Fmnsyb6K9tPNH%2Fl3gtT%2Fbi8ILvljSdkbOPZ3XtaglNu9ufwnsiJYRZvGp3%2BZE2BFl6bqKu2%2FsmjUjbnMhjUhufOXVsmZQyu65vSSg1oeGao0rlwlDoIVQzgXmIM9E29l4eXFWo%2BQJqN8r8eGbv7SR8sCMEWbeWhoCneQ%3D%3D'}\n",
      "{'make': 'Toyota', 'model': 'Corolla Altis', 'class': 'Compact'}\n",
      "<pymongo.results.InsertOneResult object at 0x000001EB35E383D0>\n",
      "1677695372352\n",
      "{'color': 'Black', 'model': 'unknown', 'possible': [{'class': 'Mazda2', 'conf': 0.24033807218074799}, {'class': 'acv40', 'conf': 0.10591185092926025}, {'class': 'e160', 'conf': 0.06640855222940445}, {'class': 'city_mawin', 'conf': 0.06603536754846573}, {'class': 'civic_fc', 'conf': 0.06471595913171768}], 'plate_num': '4กธ4561', 'plate_url': 'https://storage.googleapis.com/images-bucks/16776953754232-plate.jpg?Expires=2023201118&GoogleAccessId=image-buck-sa%40carrgclassification.iam.gserviceaccount.com&Signature=KGld2BPsyomrDLPHkXQiCTdenAtPtc4NKitaaOnrUnJk3h8x%2FciQR8ubcNslpB7%2FL%2FBVQvIg4B4saptP2u%2FNoKaeWJQ8qXN87AY7lIJxtmZkcvmy2hrcRE%2FAIa6IY0dUHlW%2FZllILT%2FLfr9PafTZaVjF0Z3VMh63IL5SMk4yxgDQUX5nljT0WDxXFEWM8cH9GSfL9ioZ8TzxtReCpCSDvqCI5xQjFWfrmqM%2FV8E%2FoOQm3%2BD3e2CEn8xJC4Pcs8kbQ7XnVFvne345%2Btg7d9iWufkYD3Rvnmd4GsLOA9eVsuyQEnB0jgb%2FNrWtvbX1CZReC8G4DsFUCykyS%2BaEnvGR4g%3D%3D'}\n",
      "{'make': 'Unknown', 'model': 'Unknown', 'class': 'Unknown'}\n",
      "<pymongo.results.InsertOneResult object at 0x000001EB2F5EB610>\n",
      "1677695390017\n",
      "{'color': 'Blue', 'model': 'unknown', 'possible': [{'class': 'Mazda2', 'conf': 0.18337266147136688}, {'class': 'e150', 'conf': 0.1405334621667862}, {'class': 'acv70', 'conf': 0.0817481279373169}, {'class': 'yaris_mama', 'conf': 0.07972607016563416}, {'class': 'corolla_cross', 'conf': 0.06584612280130386}], 'plate_num': 'ไม่พบป้ายทะเบียน', 'plate_url': None}\n",
      "{'make': 'Unknown', 'model': 'Unknown', 'class': 'Unknown'}\n",
      "<pymongo.results.InsertOneResult object at 0x000001EB29AD97F0>\n",
      "1677695403813\n",
      "{'color': 'Brown', 'model': 'acv70', 'possible': [{'class': 'acv70', 'conf': 0.2906535267829895}, {'class': 'e150', 'conf': 0.08858336508274078}, {'class': 'e160', 'conf': 0.08399669826030731}, {'class': 'revo', 'conf': 0.06044907122850418}, {'class': 'swiift_ajp', 'conf': 0.060300495475530624}], 'plate_num': 'กม524', 'plate_url': 'https://storage.googleapis.com/images-bucks/16776954068905-plate.jpg?Expires=2023201118&GoogleAccessId=image-buck-sa%40carrgclassification.iam.gserviceaccount.com&Signature=qXHKlAXTZUMmHS0Vkwhe0dESoP8%2FD8XjbQar9gic2fwRZGSAKUmAwyA7to18FVCDnhvONJxbyjBKoyVm34U6hi%2Bs%2Fa6RyPU4JEE6NN%2FkoKS9%2BzLMFXTGbACQ4r2RdBv%2BDj%2B9YhfMHkBP9Ikz0TNhQiR26N7fUyFc9r6zabUzdOyaTDecz31TAfva8a36C%2BRJQYYTHmvKFzpXUbKFA2cgiGQ2RJuHtToocNZVaKLmduZKwkfTfBOhZm6sHgL3wxBnmQaFIwznKAFyWjSilt2xHREVaeEtpr5w8JGxKaB4BGuqGQsH5VppKMEGA5eJZE6T6Expsn9tb8jFGOdepgZ3MQ%3D%3D'}\n",
      "{'make': 'Toyota', 'model': 'Camry', 'class': 'Mid-size'}\n",
      "<pymongo.results.InsertOneResult object at 0x000001EB3843E100>\n",
      "1677695473555\n",
      "{'color': 'Black', 'model': 'yaris_mama', 'possible': [{'class': 'yaris_mama', 'conf': 0.6494898796081543}, {'class': 'e160', 'conf': 0.05739815533161163}, {'class': 'Mazda2', 'conf': 0.03852744400501251}, {'class': 'acv40', 'conf': 0.030366018414497375}, {'class': 'civic_fc', 'conf': 0.028462503105401993}], 'plate_num': '8กล5946', 'plate_url': 'https://storage.googleapis.com/images-bucks/16776954768765-plate.jpg?Expires=2023201118&GoogleAccessId=image-buck-sa%40carrgclassification.iam.gserviceaccount.com&Signature=rw5WcshNtF4FHYJ0LtBbGHigS3%2BMF3OtUYWHBALG3hO9u%2B%2BvaM2kqAEXQJmS2ohQLff6awmxbMcyWYb0zYE3JfWvSqkhIZmS5HBkV1u4oRek0IgN7jrBula%2FIy3rAWd7c202aSq9M3WOHLHXp40sRDXuO3BHNXxRzx%2B%2B3bjPQrobrX88AFhXvrj%2BTA6CIdu0gWF9Wyi33FPgMIQuVBo0ax7XdrmiCN9tY9EgXl86Li1%2BV6dR4U7YQRIyJuA%2FH%2FqBCdftl8C6OZq0tsz5dkLk2veO85cZTKkq4t9Hoi27GmYVlGkc5BxumIIFQ2d8PD7nTvN8dIk3zQm6%2FouQMz3RJA%3D%3D'}\n",
      "{'make': 'Toyota', 'model': 'Yaris', 'class': 'Eco'}\n",
      "<pymongo.results.InsertOneResult object at 0x000001EB3843E310>\n",
      "1677695498676\n",
      "{'color': 'Black', 'model': 'civic_fc', 'possible': [{'class': 'civic_fc', 'conf': 0.5839695930480957}, {'class': 'Mazda2', 'conf': 0.07360359281301498}, {'class': 'acv40', 'conf': 0.03922738879919052}, {'class': 'e150', 'conf': 0.03270059823989868}, {'class': 'e160', 'conf': 0.03215717524290085}], 'plate_num': 'ไม่สามารถอ่านเลขทะเบียนได้', 'plate_url': 'https://storage.googleapis.com/images-bucks/16776955018655-plate.jpg?Expires=2023201118&GoogleAccessId=image-buck-sa%40carrgclassification.iam.gserviceaccount.com&Signature=ubhLiKvDAwWIFvAwuM51NEIneMwoHEPuAaVVQMBRPyx1l3nF8O6UtEQeFa8xaMTV1AzTWKV7Rllhex8URtsMAPBJGDnOyEk%2FJYXdNBdnTkFgRBjMwvoCR4zZDBCxXE%2FltCMMOjd4dlzZzEQ1Vs9Zh7v6Z0NzSQvz%2BmnOf9Y4JoUdNQaG8E51W%2F1639CCH1gTlomT50b9A2Of6kLiZoIjHYoH1J%2FyPfkJpC5xmk2Y1rNZi99bm2I1Dv3A4oEel15KK2HeVqwx7a%2F062alBwLgH4I9Dg%2FE628BMTJNPvzQEVHWGcKRe29S45dqFRYK9GrUPuEYxsBTMuFN%2BgAsPOSzog%3D%3D'}\n",
      "{'make': 'Honda', 'model': 'Civic', 'class': 'Compact'}\n",
      "<pymongo.results.InsertOneResult object at 0x000001EB2F5EB490>\n",
      "1677695512398\n",
      "{'color': 'Black', 'model': 'unknown', 'possible': [{'class': 'corolla_cross', 'conf': 0.12046167254447937}, {'class': 'Mazda2', 'conf': 0.10924206674098969}, {'class': 'civic_fc', 'conf': 0.0978589728474617}, {'class': 'e150', 'conf': 0.07576130330562592}, {'class': 'city_jimmy', 'conf': 0.0739356279373169}], 'plate_num': '7กร659', 'plate_url': 'https://storage.googleapis.com/images-bucks/16776955155418-plate.jpg?Expires=2023201118&GoogleAccessId=image-buck-sa%40carrgclassification.iam.gserviceaccount.com&Signature=idbAFhpVRyDgR8yzhrpVjxB3wVVwrs1SX9ro52mcXHfgW%2FsgJ2wdO1ZC20AZDST2WSTARy%2BvAQ5C5wN1D1hWOIrer0rwJprV49rTPU8hKiomPmBx3YmO8KQjI2Zthy%2Fjtf%2FGFtsCfC8ocnntqhRi4NS4NKpxlPzp30SNmO3xx%2Fi%2Bjq8dPyAlLMhz%2FjdNKbgR2xmCHeqOSLpdhNS6l%2BVUIL%2BbMTrLf4Hd74WSmhF%2F5Rai%2BJBn2lYCMiF0WG%2BDITYwCCv2jpSDzqr%2FhO8cmoAVfwaYT9Rbi%2FIATa08nXwE2BPBiG9mBSxUZWuoNHlBACmyyEUhmxcoQ0HuPovimw4wpA%3D%3D'}\n",
      "{'make': 'Unknown', 'model': 'Unknown', 'class': 'Unknown'}\n",
      "<pymongo.results.InsertOneResult object at 0x000001EB29AD9B20>\n",
      "1677695577667\n",
      "{'color': 'Blue', 'model': 'e160', 'possible': [{'class': 'e160', 'conf': 0.8209341168403625}, {'class': 'Mazda2', 'conf': 0.03019191138446331}, {'class': 'civic_fc', 'conf': 0.018786244094371796}, {'class': 'e160b', 'conf': 0.015942813828587532}, {'class': 'city_jimmy', 'conf': 0.014208519831299782}], 'plate_num': '3898', 'plate_url': 'https://storage.googleapis.com/images-bucks/16776955808418-plate.jpg?Expires=2023201118&GoogleAccessId=image-buck-sa%40carrgclassification.iam.gserviceaccount.com&Signature=exGEVxaVE6lb9PxfXmF0Tvojrygg5jh3otC9HjxbHTasvilnHahg4JTSVX3%2Fq9SsFPumGBq055nzzeantnId11vD2YrtH%2Bv795AwWKh1mjDjGivcq1hJhR5xi8OFoS3NQ70j%2FsT7YfREDTJNSFOFMQmpBDlmldX3tU39fthoXGnMqIMYJgzXMKTFZVj2HULpbhCqTmC%2FQgqAzUtUiYvnxnlTF5t1EFYwyYsJxGq7VIfliQxjJ6Qd0dXUr1zFbwx3I3q0MZO2V5QyOcLSuaRjqwkqAS9Hh0ugKc8FIFYNMcebzzwVXBa86SZSiFKL%2BSgMabnQattDNxX%2BCvjrzQ1arw%3D%3D'}\n",
      "{'make': 'Toyota', 'model': 'Corolla Altis', 'class': 'Compact'}\n",
      "<pymongo.results.InsertOneResult object at 0x000001EB29AD9BE0>\n",
      "1677695609910\n",
      "{'color': 'White', 'model': 'rt50', 'possible': [{'class': 'rt50', 'conf': 0.42300793528556824}, {'class': 'corolla_cross', 'conf': 0.08134543150663376}, {'class': 'Mazda2', 'conf': 0.07998255640268326}, {'class': 'e150', 'conf': 0.0626906007528305}, {'class': 'city_jimmy', 'conf': 0.04242239519953728}], 'plate_num': '8ก37', 'plate_url': 'https://storage.googleapis.com/images-bucks/16776956129955-plate.jpg?Expires=2023201118&GoogleAccessId=image-buck-sa%40carrgclassification.iam.gserviceaccount.com&Signature=eDLjNCsaB6jJxbOtN4uXj4ED1JcfpIc%2Fz8CKdH%2F05JHfp88cy49CWa%2F71kdWZQeyMjGJF%2BiU6%2Fxu1Bop5kWUV0uWChcpRazO9flnmFtYn%2F%2BfCXlAmgZxfve3f88EqE%2B9WM9oQATebHCkYda6Q8WVp2%2BWDA2FIW1lUBrH7TDB2jsP4nW4wMR6mhaK8AiRF%2BZ4kd3E14ZEs7eKf%2FyZFwhEMAM9tiEBUOiRvPRv6mYKoAQxXNobOQNbUpevNMFn5sFh%2BIu2YrpyVqNP0Iotp25HwCH%2B4lrm1pEJz4wFSXk0yxhmhTjKpmdg5%2F6VRT5nUytQiat1OFXIFOQu7EIsP79nYw%3D%3D'}\n",
      "{'make': 'Isuzu', 'model': 'D-max', 'class': 'Pickup'}\n",
      "<pymongo.results.InsertOneResult object at 0x000001EB38430FA0>\n",
      "1677695645268\n",
      "{'color': 'Grey', 'model': 'unknown', 'possible': [{'class': 'Mazda2', 'conf': 0.12959352135658264}, {'class': 'civic_fc', 'conf': 0.12455692887306213}, {'class': 'city_jimmy', 'conf': 0.1106894388794899}, {'class': 'e160', 'conf': 0.08761172741651535}, {'class': 'e150', 'conf': 0.06129581108689308}], 'plate_num': 'กง1242', 'plate_url': 'https://storage.googleapis.com/images-bucks/16776956485006-plate.jpg?Expires=2023201118&GoogleAccessId=image-buck-sa%40carrgclassification.iam.gserviceaccount.com&Signature=JuzSZIxZsj45hWvssU0DmtVl1hFerIYvpsKzqAKntuYpJifQGLLqr8TvPfEj%2FzYo4FJMiAdg9DmJ0R%2FMVPoowhFXyT3iHbKaSMdgKfCF90%2BXNXT3atUx7uAr4oV%2FSNKVBwzwLOUgAiDKnvEjV15IqowthCda%2F3aaKnNEzRK7JFFPU%2FBkijY5Apm%2F4dSpLkwIVgruUDWfcsMZwRiB1k6AMh1q5I0uwGyjWVGUVwt0i3zv51iM11VWPTGj9V1tdXAY1DToSiDWqdUI65%2F8CkTxcpeDKxJBzSJ01PaADVudGF99G2Ur844E31JKDmg6scNlJ0wJeF532zwZfaMU8jbaqg%3D%3D'}\n",
      "{'make': 'Unknown', 'model': 'Unknown', 'class': 'Unknown'}\n",
      "<pymongo.results.InsertOneResult object at 0x000001EB384308E0>\n",
      "1677695666784\n",
      "{'color': 'Grey', 'model': 'unknown', 'possible': [{'class': 'e150', 'conf': 0.24407196044921875}, {'class': 'Mazda2', 'conf': 0.12342726439237595}, {'class': 'e160', 'conf': 0.11050902307033539}, {'class': 'e160b', 'conf': 0.07127998024225235}, {'class': 'city_jimmy', 'conf': 0.06524363160133362}], 'plate_num': 'ขร7663', 'plate_url': 'https://storage.googleapis.com/images-bucks/16776956698797-plate.jpg?Expires=2023201118&GoogleAccessId=image-buck-sa%40carrgclassification.iam.gserviceaccount.com&Signature=QBBL7siX7fvYLGA4wmhX14QW1QBYzUFmzQkkbpNipCxhbNv4AnDfOzzba7jHACIObsfxLI0xmaB9%2B3vyCvhDHIJtcC3jSX%2BPnAv54xkUaX60VLjvc%2FgPELipPXK7t44%2B3r2Nai9M6kiDBOn2XEVO5SHTmsRKdFMSmt26Yv5U5v7ejnSgnkt%2FrJrTYejlE3A3svpi%2BVg93OfxccUoz0e69FVwboztJRieXdr1iEsrpCmbZjJmzYYvLeiTy3hwTAt%2BFDXiaVnnXbdS%2B%2BIzQncvBielzmTzW1TCVqB5gxYgZZIZlfSKMc%2Fjr%2BkQcTJIzjJMYLztz8Rczb8UEjseaWnlqg%3D%3D'}\n",
      "{'make': 'Unknown', 'model': 'Unknown', 'class': 'Unknown'}\n",
      "<pymongo.results.InsertOneResult object at 0x000001EB38430F10>\n",
      "1677695685302\n",
      "{'color': 'Grey', 'model': 'unknown', 'possible': [{'class': 'civic_fc', 'conf': 0.12364061176776886}, {'class': 'e160', 'conf': 0.089447520673275}, {'class': 'acv70', 'conf': 0.07756027579307556}, {'class': 'Mazda2', 'conf': 0.07389258593320847}, {'class': 'e150', 'conf': 0.07239894568920135}], 'plate_num': 'ก737', 'plate_url': 'https://storage.googleapis.com/images-bucks/16776956884499-plate.jpg?Expires=2023201118&GoogleAccessId=image-buck-sa%40carrgclassification.iam.gserviceaccount.com&Signature=Nt2VgECJ9%2Bu2XopcFL%2FCORCIs7qHZms3PllskGyVfvIi%2BvlySr7VjTcs1A71jafXC%2B3D4q3MnykmQEuThkvZmvpI8qBk%2FAYByJLuqtZL02kFVkOl9arx9Alr0kzXL9DObREvWUSLqppBua8K%2Bs4iJqaKK2918T9P5JoMgl6PWj6MCV7wwV%2BNgxBrDMuScZsscAxzlfdyKwaSHT%2BscLK3UoAnpFfA9qCJmVM1%2FwS0DfHZjinsx0RIy402E7W7UNWC73XdqsyLBiXIHXPRtZ5yqppJrVWgRDoe3zkvhbbfnapIKHX3nRf%2Fyod%2BOn%2FvD3brup9iLV9fFE5R6Ku5nk6ykw%3D%3D'}\n",
      "{'make': 'Unknown', 'model': 'Unknown', 'class': 'Unknown'}\n",
      "<pymongo.results.InsertOneResult object at 0x000001EB38430040>\n",
      "1677695700653\n",
      "{'color': 'Black', 'model': 'Mazda2', 'possible': [{'class': 'Mazda2', 'conf': 0.2987818717956543}, {'class': 'yaris_mama', 'conf': 0.07291359454393387}, {'class': 'corolla_cross', 'conf': 0.06729547679424286}, {'class': 'e160b', 'conf': 0.062378473579883575}, {'class': 'acv40', 'conf': 0.06198282539844513}], 'plate_num': '5กร264', 'plate_url': 'https://storage.googleapis.com/images-bucks/16776957037790-plate.jpg?Expires=2023201118&GoogleAccessId=image-buck-sa%40carrgclassification.iam.gserviceaccount.com&Signature=BUZJ8egeTfxlg1npDzn9ARElbARbZnVTzFYLfjudxp0Q1aNfdwh51afvUpDeCXN0qLRVY6ktxBSW1tfsZXzoZWwM%2Fev4yl6z0eeXCz8mIy7YFTZsY5PeeNtx2gzZC9B6A9XBgFb%2FCK9xGtirkZMMVlW2uaE7%2BhrpJ4Z%2BzOI1eKdxcKSti5UQ1MXoT2st%2FWGDAKx8qL988Q2vyb73e5edybLl1Un8eailkrpttoijoNUeOrp3fb50%2FEamI5t3kkytem80FaovclMqLQe6Cbmu5CsxVva%2BOE1NrLQIhFavROvawGFUtZE58T9FIwJvEunVOooM8Z%2BOTXzRikyXKL7Hxw%3D%3D'}\n",
      "{'make': 'Mazda', 'model': 'Mazda 2', 'class': 'Eco'}\n",
      "<pymongo.results.InsertOneResult object at 0x000001EB38430430>\n",
      "1677695710513\n",
      "{'color': 'Black', 'model': 'unknown', 'possible': [{'class': 'Mazda2', 'conf': 0.2299286425113678}, {'class': 'corolla_cross', 'conf': 0.12441172450780869}, {'class': 'e150', 'conf': 0.09145849943161011}, {'class': 'e160b', 'conf': 0.06616853177547455}, {'class': 'acv40', 'conf': 0.05850578844547272}], 'plate_num': '5กฉ264', 'plate_url': 'https://storage.googleapis.com/images-bucks/16776957136104-plate.jpg?Expires=2023201118&GoogleAccessId=image-buck-sa%40carrgclassification.iam.gserviceaccount.com&Signature=Y%2FDH%2BXrN0%2BMQ3%2FmUAHkpIxQSdA46WucML0JgfJx2UHdkbqJSpBKmpLgwr7NUyqGaEjBKQ9I61uAfv8z0BAYLj6OWU%2Fih%2BWjGTL3kjwTLWPfXUbG5PfmdruHETVsGVxAOI4yewhOPm0C5TIIjesabcfDsZ%2BBoGw%2BsVbhYB%2FU4BjLJr9Tn%2B34dXJbYIt8uvNIK4x5yogp7QtQexFXsIswUTQZAqBj5aR3qC%2B7%2F%2BNe5tAPkJ2BqP0jzdGNFSoRhJRojfSgQVvZFoFwcf6hTc6QJAc%2BHCwYUYwCqjt8LLyaaPvWg%2F%2F1%2F7LyrcDboo9wqejHaDJTrm50cjtnWZWxHEXC5JQ%3D%3D'}\n",
      "{'make': 'Unknown', 'model': 'Unknown', 'class': 'Unknown'}\n",
      "<pymongo.results.InsertOneResult object at 0x000001EB384306A0>\n",
      "1677695718336\n",
      "{'color': 'Black', 'model': 'unknown', 'possible': [{'class': 'Mazda2', 'conf': 0.17355474829673767}, {'class': 'corolla_cross', 'conf': 0.12660181522369385}, {'class': 'e150', 'conf': 0.11839257925748825}, {'class': 'e160b', 'conf': 0.08201579749584198}, {'class': 'city_jimmy', 'conf': 0.07464733719825745}], 'plate_num': 'ไม่พบป้ายทะเบียน', 'plate_url': None}\n",
      "{'make': 'Unknown', 'model': 'Unknown', 'class': 'Unknown'}\n",
      "<pymongo.results.InsertOneResult object at 0x000001EB3843EB80>\n",
      "1677695722185\n",
      "{'color': 'Brown', 'model': 'unknown', 'possible': [{'class': 'Mazda2', 'conf': 0.20961512625217438}, {'class': 'corolla_cross', 'conf': 0.12983214855194092}, {'class': 'e150', 'conf': 0.10404490679502487}, {'class': 'city_jimmy', 'conf': 0.07120388001203537}, {'class': 'e160b', 'conf': 0.06648397445678711}], 'plate_num': 'ไม่พบป้ายทะเบียน', 'plate_url': None}\n",
      "{'make': 'Unknown', 'model': 'Unknown', 'class': 'Unknown'}\n",
      "<pymongo.results.InsertOneResult object at 0x000001EB2F5EBDF0>\n",
      "1677695769798\n",
      "{'color': 'Blue', 'model': 'e160b', 'possible': [{'class': 'e160b', 'conf': 0.6516473293304443}, {'class': 'e160', 'conf': 0.06191360205411911}, {'class': 'e150', 'conf': 0.045740846544504166}, {'class': 'civic_fc', 'conf': 0.03705262392759323}, {'class': 'city_jimmy', 'conf': 0.03288824483752251}], 'plate_num': 'น58', 'plate_url': 'https://storage.googleapis.com/images-bucks/16776957729318-plate.jpg?Expires=2023201118&GoogleAccessId=image-buck-sa%40carrgclassification.iam.gserviceaccount.com&Signature=lDMwMuobWn9i8%2FsfHmmoarOTwsWf6Rl8X1CugesOSSFKyQQAZHLTpo%2BDAE0atT%2FNQvkzCjDJHs9JEOW%2Fk4rHfAFv3wI8KL6htiPUPZyg9AnhaBqLGvpQMfh17ph1lS%2BGooPCUmo94K%2BzQgzZIj032UAJ%2FWkAl1YEmR8Xr5gs90jLA9fj6iI10l9jyJxFDKOoFZNFHOunU6nJmB36ai%2BmokN17a0%2FyIWStGpv0uAK1ijkTin2o0TklKadR4XMXhoUEOyrxhvs02cjrzqcqUqqeg6Moc8MqY%2F3vfM3rzJcEpj9OPnTQM3M3GzY6OSoXS9VFj3SHVh1y3fVla4jKDYjZA%3D%3D'}\n",
      "{'make': 'Toyota', 'model': 'Corolla Altis', 'class': 'Compact'}\n",
      "<pymongo.results.InsertOneResult object at 0x000001EB35E38700>\n",
      "1677695841153\n",
      "{'color': 'Black', 'model': 'unknown', 'possible': [{'class': 'corolla_cross', 'conf': 0.22491753101348877}, {'class': 'e160b', 'conf': 0.11726290732622147}, {'class': 'Mazda2', 'conf': 0.1065269187092781}, {'class': 'acv40', 'conf': 0.09450427442789078}, {'class': 'city_jimmy', 'conf': 0.06262187659740448}], 'plate_num': 'ไม่สามารถอ่านเลขทะเบียนได้', 'plate_url': 'https://storage.googleapis.com/images-bucks/16776958442573-plate.jpg?Expires=2023201118&GoogleAccessId=image-buck-sa%40carrgclassification.iam.gserviceaccount.com&Signature=wiFQht1zAMA6UUgVmS23hoME%2BcFdLbLCob%2B7njxpHogH1dJWeT4QRoud2IW8fIjg53FreYt9XEV%2BuAdHFpIspR3i3xC0v3vu85D9XS%2B%2FmTk52I2RfXaxB5vJAQeQkiL0ZPFMhowGXCbcf9MVIkog5vK7iJ0n0IqcsyJWtP1Bw3U0HUDHxFgx199I9VqWTGOn3Tw%2BLwzrKUsAlGfl6X7TKYhXZipekps8XE4KQbRVLczxGJtvDxW8WqK8qfndoy4Zg9Lepuk4XicHyf1E3iISgs9efmk8ydTAK%2FIsWdG4pvLhBuOha1vAhNLNp6VzjRa94%2BhFX3kr5XL1q503zdYZtw%3D%3D'}\n",
      "{'make': 'Unknown', 'model': 'Unknown', 'class': 'Unknown'}\n",
      "<pymongo.results.InsertOneResult object at 0x000001EB35E38460>\n",
      "1677695877172\n",
      "{'color': 'Grey', 'model': 'unknown', 'possible': [{'class': 'city_jimmy', 'conf': 0.20170855522155762}, {'class': 'revo', 'conf': 0.12469097226858139}, {'class': 'e160', 'conf': 0.11378708481788635}, {'class': 'Mazda2', 'conf': 0.08762796223163605}, {'class': 'e150', 'conf': 0.08013825118541718}], 'plate_num': '657782', 'plate_url': 'https://storage.googleapis.com/images-bucks/16776958800943-plate.jpg?Expires=2023201118&GoogleAccessId=image-buck-sa%40carrgclassification.iam.gserviceaccount.com&Signature=cI3v0z6xJqizUF5o4IN%2BjiuQXd0e43tSxWIJyYs3%2FHEu9aLk9Kfe2H0thqMcBieiAa%2B%2BeRKDuArcJvolBsUruJ5Jzz0ryxbBFxZWfUpfY5UbjCLcC56obzVzVAa5Aa9nG32aST1uRaMB7DHfUcYAGYj3yzG06aP2uY6vWrKWN9BTho%2BC2MfXzuuN7YX5uYUxvTRhzNs4%2BNWz%2BUlx9MLHUICGGjkmlFBUCo3UaTVAR6aX6a3BqLlUjiGfk0ID67E5KN%2FlcSet0Xv4CExPdYbrNAuNOmMNFJp2N98A8BGGtekODKjfTxQMC0I8wFn8fNm1%2BYS9WqttOtUWfUGp1z31EQ%3D%3D'}\n",
      "{'make': 'Unknown', 'model': 'Unknown', 'class': 'Unknown'}\n",
      "<pymongo.results.InsertOneResult object at 0x000001EB3843E130>\n",
      "1677695924093\n",
      "{'color': 'White', 'model': 'unknown', 'possible': [{'class': 'civic_fc', 'conf': 0.18926961719989777}, {'class': 'corolla_cross', 'conf': 0.11213938891887665}, {'class': 'Mazda2', 'conf': 0.11148810386657715}, {'class': 'e150', 'conf': 0.06951502710580826}, {'class': 'city_jimmy', 'conf': 0.06831229478120804}], 'plate_num': '2ขร6388', 'plate_url': 'https://storage.googleapis.com/images-bucks/16776959271907-plate.jpg?Expires=2023201118&GoogleAccessId=image-buck-sa%40carrgclassification.iam.gserviceaccount.com&Signature=DNinBpprMkqHT4lpBdy%2B0FeAjn%2B2ue2tPXay%2Fsqx%2B7KCTJWNgwzgt%2BtZpOEjFODrH4Gg7FoBVtVf%2BmdwxfEpdXG6b%2BIjhkvDydKUQiwjx%2FSjqvCct%2BnizO%2BGQM7C7bg1zaKVWJQzOpFBPKoAo2s%2BYXy1rprA64TdPF8JzUVdfxYgMIkKthjmfVTcMrFulF7%2FrSs%2B0Jd3QcLuctt%2FepaOqQ%2BoMWZzP%2FIuSUgSkQGJibax6UwJRa%2BvstGo6CMMDe9PB1IFMDRHUWAlHl1V7sEQ41IjOi24zjf5zE2hRILW3JGrRluArNgpXYxJ8TrS%2FHpOU50XIDrhoL8T7mBABIY2vw%3D%3D'}\n",
      "{'make': 'Unknown', 'model': 'Unknown', 'class': 'Unknown'}\n",
      "<pymongo.results.InsertOneResult object at 0x000001EB35E38AC0>\n",
      "1677695948916\n",
      "{'color': 'Black', 'model': 'Mazda2', 'possible': [{'class': 'Mazda2', 'conf': 0.2673923373222351}, {'class': 'e160', 'conf': 0.11949166655540466}, {'class': 'swiift_ajp', 'conf': 0.0847424566745758}, {'class': 'acv40', 'conf': 0.07537481933832169}, {'class': 'e150', 'conf': 0.06948696821928024}], 'plate_num': '1ขพ137', 'plate_url': 'https://storage.googleapis.com/images-bucks/16776959521017-plate.jpg?Expires=2023201118&GoogleAccessId=image-buck-sa%40carrgclassification.iam.gserviceaccount.com&Signature=tL4Mmstohzjp3%2FCHGdhBsqYoSkk3PHCJsY2iuVmOiE1FCiQTGJJt4Uornh3UyXgHvOhpv42X%2FHi1ubws2bLiOno7d10Xg%2BpqN0%2F3THdtBP%2FVLrX8SKVhDE%2FAHQa9GrfbQM7bO40CkacvDcZaYKsTSLP70gd7rZZ42njIDpn%2BfUb8nBVkS%2BKR1vAgmYXDWzpQ44SnvHe5xdMkq33OLDMuNZOikqweTrgF2YVrmLxmW%2B5F43uOzS47I%2BAisy1d3cD1ZVtGyDvGziGpdje97AG6TX7P8N8E3z2fFByP9vsudxh0CTRw%2FLKbm7Dwtz8D4sUmTFx7tdTBLrI%2FJkTO7M3%2B%2Fw%3D%3D'}\n",
      "{'make': 'Mazda', 'model': 'Mazda 2', 'class': 'Eco'}\n",
      "<pymongo.results.InsertOneResult object at 0x000001EB38430280>\n",
      "1677695962130\n",
      "{'color': 'Black', 'model': 'Mazda2', 'possible': [{'class': 'Mazda2', 'conf': 0.3007824122905731}, {'class': 'city_jimmy', 'conf': 0.09187047928571701}, {'class': 'acv40', 'conf': 0.06985092908143997}, {'class': 'civic_fc', 'conf': 0.06976563483476639}, {'class': 'e150', 'conf': 0.06710170954465866}], 'plate_num': 'กธ62', 'plate_url': 'https://storage.googleapis.com/images-bucks/16776959651501-plate.jpg?Expires=2023201118&GoogleAccessId=image-buck-sa%40carrgclassification.iam.gserviceaccount.com&Signature=J8nr7gYDVDkzOOe%2Fy%2BYKTXdNtCPB7JwVyjZl%2FsVHubH%2FHruWDq4Bc6SFrl1xvtrAKooovOJiXXXE1rqHf%2F%2Fkeal9ACvhPanYwJYJMJPSDMctaEzbIWH%2FhQkjWXkl7jUMZP7YFbQ5l4ZGLk56oe4eoCaa6jyV28jd0t4D%2BdVYm7fpDjMA3KPpE%2B9pp7DLKKGk8uMJfEGa5%2BuUTSouup%2FOzdlCWg8cHnClwQXmz%2B6gysgyu%2B1yCobE%2F3boawQrT6BgqiwBSi6R7aI6ApW7cQLHP81b5910%2BWysWBDgHwpYXzMeSQR%2BAJVEVATYC%2F2nA2BEOZSRPhUrWJKe7iC9Rp4jxg%3D%3D'}\n",
      "{'make': 'Mazda', 'model': 'Mazda 2', 'class': 'Eco'}\n",
      "<pymongo.results.InsertOneResult object at 0x000001EB38430550>\n",
      "1677696000083\n",
      "{'color': 'White', 'model': 'unknown', 'possible': [{'class': 'Mazda2', 'conf': 0.18311597406864166}, {'class': 'civic_fc', 'conf': 0.11001584678888321}, {'class': 'e160', 'conf': 0.09974583983421326}, {'class': 'acv70', 'conf': 0.07753326743841171}, {'class': 'swiift_ajp', 'conf': 0.07204192876815796}], 'plate_num': 'กณ3663', 'plate_url': 'https://storage.googleapis.com/images-bucks/16776960032551-plate.jpg?Expires=2023201118&GoogleAccessId=image-buck-sa%40carrgclassification.iam.gserviceaccount.com&Signature=R5hOMJmqBXdqCzZiFx2dEFdExld3hTzDrhh1ugVlaZsZixVQajnm5Ndn0NT2DmPfBCtaAFqealgfSnidO1ksKTIKLwrXiHlA%2BLOrMFdVFyWu19dc3S8%2BdgMqzGTwB1s8BUTo2%2B6cQ9xlRgQwmmNouo3Nxw22BcIvNGb2qfpSZE19rqqSaq7ckI44g1U%2FHXe6mCuETcX94Gj8fVSf6LPQQBSLJWGsr1XSQa536fo0N23ZJhsBcQE%2Bm%2FlEaBlmBKEqeEpRDsk0wRRnCJeQYsKM15OdzVPohLZE3HXHlNfT3z4SKhkI90juNO3e4biUy%2B49lAMys7AYo%2Fmikr415SfSQA%3D%3D'}\n",
      "{'make': 'Unknown', 'model': 'Unknown', 'class': 'Unknown'}\n",
      "<pymongo.results.InsertOneResult object at 0x000001EB38430AC0>\n",
      "1677696022900\n",
      "{'color': 'Black', 'model': 'unknown', 'possible': [{'class': 'Mazda2', 'conf': 0.14795978367328644}, {'class': 'civic_fc', 'conf': 0.12820804119110107}, {'class': 'e160b', 'conf': 0.09192515164613724}, {'class': 'corolla_cross', 'conf': 0.06789310276508331}, {'class': 'acv40', 'conf': 0.0665978267788887}], 'plate_num': '6กธ9666', 'plate_url': 'https://storage.googleapis.com/images-bucks/16776960261275-plate.jpg?Expires=2023201118&GoogleAccessId=image-buck-sa%40carrgclassification.iam.gserviceaccount.com&Signature=GDrvEn%2FsS2xpMWOhnBgrTVBhLdIreGaoJN2CHxKQGtT2q8BU0WejxQOqmOaEahXJFJr%2BxFz1NWxJRqExj2qtfU8Y71v9xNHB3InW6vl%2BOv%2B%2Fou%2BEqisATywswlWmmXjjUwAjNa1YX2vhw0zN1oat9BnEDMx0bRrIecP%2BM7RYY4F5x0Q4yp8hKyqDu%2BFhssipJW3qNRzjFwv%2FnzeGjTC3mzOg4S4kp6XlFhKvimXO9sUcBe0%2FJ1G4ICC56uApRnLGP7AX2q8bObk2pr6wd83VCxrOm7pS8ZxHyNfR1Lm1gOcoZKOjC5%2FEi25KPGzZuCqouJx%2BAOwOfv5d7Mr2%2F5ooOA%3D%3D'}\n",
      "{'make': 'Unknown', 'model': 'Unknown', 'class': 'Unknown'}\n",
      "<pymongo.results.InsertOneResult object at 0x000001EB3843E370>\n",
      "1677696052248\n",
      "{'color': 'TAXI', 'model': 'unknown', 'possible': [{'class': 'e150', 'conf': 0.11807949095964432}, {'class': 'civic_fc', 'conf': 0.11057934165000916}, {'class': 'e160', 'conf': 0.10635977983474731}, {'class': 'Mazda2', 'conf': 0.08512955158948898}, {'class': 'city_jimmy', 'conf': 0.0826999619603157}], 'plate_num': '368', 'plate_url': 'https://storage.googleapis.com/images-bucks/16776960552484-plate.jpg?Expires=2023201118&GoogleAccessId=image-buck-sa%40carrgclassification.iam.gserviceaccount.com&Signature=S1fsJAVA6LZ%2BqiBoEHRIAcDkBZtmg%2BZjnIxyqHCLTU52T0UFzRnEBYKRwWNNwh5RsLoUm74d%2FdUCPIt87v1RsgmttAPgBqnxCU62hkbc0uOLVwOuyuC6%2F3CTLd2xZLihyAmD4MUeIiuIgeb%2FFNy%2BxJ6qY0ieEqfzaCOMhLrseA8e90%2BXPPK09%2BfVYBzMipS7R7WaALva21X4VZ1Ob9alYx8tDCaO4BAoB0dOQY1pSw5MwJXJ0FM4mW2RbtOVQQndRhlhp4Z8MHCx8g4KzbM000QTBdTcxMlnR5IUkSR0ywVAYz9lCkUia7WAtMY9Ahz84RicGa%2FOJeFCzG9Myknpcg%3D%3D'}\n",
      "{'make': 'Unknown', 'model': 'Unknown', 'class': 'Unknown'}\n",
      "<pymongo.results.InsertOneResult object at 0x000001EB35E38F40>\n",
      "1677696066795\n",
      "{'color': 'Blue', 'model': 'unknown', 'possible': [{'class': 'Mazda2', 'conf': 0.17117895185947418}, {'class': 'e160b', 'conf': 0.13732747733592987}, {'class': 'swiift_ajp', 'conf': 0.0947396531701088}, {'class': 'civic_fc', 'conf': 0.0915798470377922}, {'class': 'acv70', 'conf': 0.08637095242738724}], 'plate_num': 'ไม่พบป้ายทะเบียน', 'plate_url': None}\n",
      "{'make': 'Unknown', 'model': 'Unknown', 'class': 'Unknown'}\n",
      "<pymongo.results.InsertOneResult object at 0x000001EB29AD9AF0>\n",
      "1677696079772\n",
      "{'color': 'Grey', 'model': 'unknown', 'possible': [{'class': 'Mazda2', 'conf': 0.11504393815994263}, {'class': 'city_jimmy', 'conf': 0.11137095093727112}, {'class': 'e160', 'conf': 0.10577023029327393}, {'class': 'revo', 'conf': 0.09860201179981232}, {'class': 'e150', 'conf': 0.08890029042959213}], 'plate_num': '6กพ7838', 'plate_url': 'https://storage.googleapis.com/images-bucks/16776960829868-plate.jpg?Expires=2023201118&GoogleAccessId=image-buck-sa%40carrgclassification.iam.gserviceaccount.com&Signature=ZDfZq0QjBvG%2BwxIUakgCuTq8LRU7Yh%2FnPho4GNSbKCU9r380hRS0OFXEXKomsM7CBoXxhQQH%2B%2ByRQkoThrp4UnsmJNQijs0BFh28yZ%2FNyN4WbeZGRANdjJjuMS3FYm%2F7PY0eWQobpVA3ruJ0yAs05EOy7mxPjQ2YoT3%2BBgOi7ypVD9Jm1YSTduAoiGFfcbYeI4Rz%2Bjlo2iGRBqZuq4Ztza2XKstbkQBzQDoUc9cyltOQBFNLeIoNSiHgUAUBP2hTWVKl7Hz0Za9zga0WIZNY1QnS%2B3eozTBdcxDNk4CHIEJUE6LBBRRZvbKdjdVBkBVNyIlwZO%2FHllNQWKft9jynqw%3D%3D'}\n",
      "{'make': 'Unknown', 'model': 'Unknown', 'class': 'Unknown'}\n",
      "<pymongo.results.InsertOneResult object at 0x000001EB35E38D90>\n",
      "1677696128598\n",
      "{'color': 'Black', 'model': 'unknown', 'possible': [{'class': 'Mazda2', 'conf': 0.16794586181640625}, {'class': 'e160b', 'conf': 0.1209324449300766}, {'class': 'civic_fc', 'conf': 0.11308722198009491}, {'class': 'corolla_cross', 'conf': 0.08092150837182999}, {'class': 'city_jimmy', 'conf': 0.08030915260314941}], 'plate_num': 'ล8386', 'plate_url': 'https://storage.googleapis.com/images-bucks/16776961317976-plate.jpg?Expires=2023201118&GoogleAccessId=image-buck-sa%40carrgclassification.iam.gserviceaccount.com&Signature=QjB5pLd3ErO2rKWXxeh9ke01leO4%2BXTWxgKVq9Zhuw%2BT54rGXkV8dZKhOnM7Rv%2BSbIa68OiuNqwuVZiODD%2FsHPbalnp36spG2pJxZ8ZZ1kJdj1N6ZZ8CnU2QaWwoVQWVAfW0sB0WO84ZqENN%2Fp%2BUrfotn9V%2Bvt0X6kWWHOzTqNQR4B3Iv4PZj9%2FbZqwCci%2BcEnfiz6mYtodpx6z2v7sWDvoYN0lm2K%2BEJPXwVEyVg83UhFiRyWhx1ldS7KwnH1stHOTS8nWWfmKjaZOESWPnfcr0%2BoMNSA56KmAf4kbCTt5CfF4diYdNgC0hG3%2FNRYSagEgwwV5%2Bab8BKpxeO0A8AQ%3D%3D'}\n",
      "{'make': 'Unknown', 'model': 'Unknown', 'class': 'Unknown'}\n",
      "<pymongo.results.InsertOneResult object at 0x000001EB35E385B0>\n",
      "1677696150666\n",
      "{'color': 'White', 'model': 'unknown', 'possible': [{'class': 'Mazda2', 'conf': 0.2424667626619339}, {'class': 'corolla_cross', 'conf': 0.1126309409737587}, {'class': 'civic_fc', 'conf': 0.08871662616729736}, {'class': 'e160', 'conf': 0.06927139312028885}, {'class': 'e150', 'conf': 0.06843876838684082}], 'plate_num': 'ข556', 'plate_url': 'https://storage.googleapis.com/images-bucks/16776961539154-plate.jpg?Expires=2023201118&GoogleAccessId=image-buck-sa%40carrgclassification.iam.gserviceaccount.com&Signature=tb2jNJ4SXOXzJl7VE9EwG3HzceeXFZrHw5BLXEERcvsi8MDOS1tAmHtNvtdwXRoKKT%2BP%2BTxYsIl%2BMr%2FsdrbPpJTiEsIe5OCTyHl5OLKT4ctYUont3uflA4ONjToCxqZoiTsVlrQraItsJmmUqH3nUErNzZ0ZTgQFuYyDtmPpe6Foyj19hTm2v1mTsFvKJEnmJWIsLvDSUhQoZIEknsWt%2BP%2B%2B97mNxe80O3DPDNfDic%2FlRZIjM9Trc7qxudDEgEE50SKHyteBTuocuD7F7ENtLXTJ0c%2B14YhIzLgdcSZ7K0zjHGMalsOCNoXzw4%2BBP55jM%2F53tf0uvaYeih73n0RzEg%3D%3D'}\n",
      "{'make': 'Unknown', 'model': 'Unknown', 'class': 'Unknown'}\n",
      "<pymongo.results.InsertOneResult object at 0x000001EB35E38F40>\n",
      "1677696167854\n",
      "{'color': 'Black', 'model': 'unknown', 'possible': [{'class': 'swiift_ajp', 'conf': 0.1317547708749771}, {'class': 'civic_fc', 'conf': 0.12089940905570984}, {'class': 'e160', 'conf': 0.11716276407241821}, {'class': 'e170', 'conf': 0.10721942782402039}, {'class': 'Mazda2', 'conf': 0.08551276475191116}], 'plate_num': 'ไม่พบป้ายทะเบียน', 'plate_url': None}\n",
      "{'make': 'Unknown', 'model': 'Unknown', 'class': 'Unknown'}\n",
      "<pymongo.results.InsertOneResult object at 0x000001EB35E383D0>\n",
      "1677696193096\n",
      "{'color': 'Grey', 'model': 'unknown', 'possible': [{'class': 'city_jimmy', 'conf': 0.2022603303194046}, {'class': 'Mazda2', 'conf': 0.11227820813655853}, {'class': 'e150', 'conf': 0.10717803239822388}, {'class': 'swiift_ajp', 'conf': 0.05555476248264313}, {'class': 'acv70', 'conf': 0.05468904972076416}], 'plate_num': '5', 'plate_url': 'https://storage.googleapis.com/images-bucks/16776961962509-plate.jpg?Expires=2023201118&GoogleAccessId=image-buck-sa%40carrgclassification.iam.gserviceaccount.com&Signature=Vhb6wHb%2FulcUnxbdL%2BWwsKvjMq5DKbPvVodV1jBkd2bdbUUmcymn0%2FMngLGWNrGvbj9H6FInuB0HpsSwBYVpa1uihnEtExhNv2tt%2Bfn2rZNr36aj4QfZdBbeqSstgndB%2FSU2f2bQvFMIWkW0pHHyLkrhvilU5vpHYbxHAYiI4wJle4RMF280D7ytjdHIT83YoYLDDT9ahHvrRXLuQKkLdcoh1%2FKzjgXWwhgXCPFlhmPG9M7pZIh8Ko%2F6FuSrZB3dQvHLLvL1qzo3lJQVW4o7Dw7kuhEFn1VTPFWp%2BiO3pUGCgecK7RQZNHl%2BLB7dWwKg%2BfwYQW5I9EU%2Bv2h9u83QtA%3D%3D'}\n",
      "{'make': 'Unknown', 'model': 'Unknown', 'class': 'Unknown'}\n",
      "<pymongo.results.InsertOneResult object at 0x000001EB35E38F10>\n",
      "1677696220457\n",
      "{'color': 'Black', 'model': 'civic_fc', 'possible': [{'class': 'civic_fc', 'conf': 0.6465330719947815}, {'class': 'e150', 'conf': 0.055809736251831055}, {'class': 'city_mawin', 'conf': 0.040622081607580185}, {'class': 'Mazda2', 'conf': 0.029224103316664696}, {'class': 'corolla_cross', 'conf': 0.028990866616368294}], 'plate_num': '1ขร986', 'plate_url': 'https://storage.googleapis.com/images-bucks/16776962237208-plate.jpg?Expires=2023201118&GoogleAccessId=image-buck-sa%40carrgclassification.iam.gserviceaccount.com&Signature=Mr%2B%2BIZwH4EO97%2B%2BfG%2BVintcQAHIHUdqpD%2FVJDnmvF3wfgWxppwB17QTz4exlK%2F1kDLjdrNWARzYrhhU%2Fl%2FGjZV7s%2BpGjnYSLPoAQFeUHPd1cF3eJ3%2BRVOYroznYEGmmo9gvVSDYlqWFYBVn%2Bp9uwPa11sViGxlIVMJ6Ry8IYfeK79LXbTqcAfS01wQiZoiqZeAiPOPZeVpe%2FGqtIAJ6V9EQ0VG9X%2FgS%2FFajfZRlbLQLoU%2FCTHbUNjR5C%2FfAGndG%2Bh%2FHV4kTVghTeaHtPWLFY9l%2F1pRZQKvXEEGwPk7VGrv2f3l1pndsAoy4obJV0hBeZyfE1Vv6L%2BljG9IXiBNUVEQ%3D%3D'}\n",
      "{'make': 'Honda', 'model': 'Civic', 'class': 'Compact'}\n",
      "<pymongo.results.InsertOneResult object at 0x000001EB35E38E80>\n",
      "1677696269629\n",
      "{'color': 'Black', 'model': 'unknown', 'possible': [{'class': 'Mazda2', 'conf': 0.2406683713197708}, {'class': 'city_mawin', 'conf': 0.10883289575576782}, {'class': 'e160b', 'conf': 0.07825994491577148}, {'class': 'e160', 'conf': 0.07105663418769836}, {'class': 'corolla_cross', 'conf': 0.06588353961706161}], 'plate_num': 'ไม่พบป้ายทะเบียน', 'plate_url': None}\n",
      "{'make': 'Unknown', 'model': 'Unknown', 'class': 'Unknown'}\n",
      "<pymongo.results.InsertOneResult object at 0x000001EB35E38C70>\n",
      "1677696342702\n",
      "{'color': 'Black', 'model': 'e160b', 'possible': [{'class': 'e160b', 'conf': 0.26290804147720337}, {'class': 'e160', 'conf': 0.1069135069847107}, {'class': 'Mazda2', 'conf': 0.10384746640920639}, {'class': 'corolla_cross', 'conf': 0.0570262186229229}, {'class': 'e150', 'conf': 0.05196433514356613}], 'plate_num': '9', 'plate_url': 'https://storage.googleapis.com/images-bucks/16776963459686-plate.jpg?Expires=2023201118&GoogleAccessId=image-buck-sa%40carrgclassification.iam.gserviceaccount.com&Signature=KjPYMf9YxoJJTGY6Xq7iATvHM0%2F1SNHTrFwfq2f2QkL%2BgHLtDwpM%2BkP2O1Gq%2BGwbrIlipN8NX3SY0ZeB4EP7xXKaNaGp0rQYb1EMQsn1g3tHINWElosbv%2FKbHFy1MIXNlnNnzvTMEDci4JkRRMaGWOxAJJ0outWQRAZ4PO%2BeA8L%2FEq71c9VK6ryuAuJYNbm2jPw5eNQPy4Bh2P4DH4pnWfnJw1CGVKAkKcunC5K1U%2Fc99o8Qzyrx97dPh3jMXYYCmIC4I3SNRYBROQ1s5I%2B4YtY2MzuCmLzAi%2Fau%2Bu%2FLPH1tIPG4v7QBBy%2Fzad8Wl6S53QUG4iZfKSarNNGez3QM0Q%3D%3D'}\n",
      "{'make': 'Toyota', 'model': 'Corolla Altis', 'class': 'Compact'}\n",
      "<pymongo.results.InsertOneResult object at 0x000001EB35E38D30>\n",
      "1677696363806\n",
      "{'color': 'TAXI', 'model': 'unknown', 'possible': [{'class': 'acv40', 'conf': 0.1262723058462143}, {'class': 'e160', 'conf': 0.10748331248760223}, {'class': 'swiift_ajp', 'conf': 0.09197903424501419}, {'class': 'civic_fc', 'conf': 0.07472287118434906}, {'class': 'e150', 'conf': 0.07374812662601471}], 'plate_num': 'อม1232', 'plate_url': 'https://storage.googleapis.com/images-bucks/16776963669426-plate.jpg?Expires=2023201118&GoogleAccessId=image-buck-sa%40carrgclassification.iam.gserviceaccount.com&Signature=nLEuCHqOqa0rtacVodfoR%2BjAHFWR3xvnPCeUGBezmtNzCKgCVONQyRgF0%2FiUPZAsW7PoyVDTZEKo7JuYf%2FO9pOx%2BrhVtEIKutbaTu9ADwb7D7lyDUBIFbmtgXAWHd8Zq0OBHn0U0yQVKqp%2FvpmZQMajMR24k32g4nsU46tvkhm0J%2BTN%2Fuob1Q4F0JGOeA18a7zN%2BnN%2BJtnH0V1AZe73Ef1v9c0y4fcOMLxSpPxSpYBh%2Fa4ps4O6MEbtS4Jb4243r3YSf2C1z0e3MVi%2FdiDAZxcfHHOQnT8RsiG%2FXi9U3TPtaiMJlAxrwMTlPnMylqLmeDrfcdFVRt8IetkZ%2FUFQyrA%3D%3D'}\n",
      "{'make': 'Unknown', 'model': 'Unknown', 'class': 'Unknown'}\n",
      "<pymongo.results.InsertOneResult object at 0x000001EB2F5EB490>\n",
      "1677696369505\n",
      "{'color': 'TAXI', 'model': 'unknown', 'possible': [{'class': 'acv40', 'conf': 0.12424793094396591}, {'class': 'e160', 'conf': 0.11185583472251892}, {'class': 'yaris_old', 'conf': 0.10635918378829956}, {'class': 'swiift_ajp', 'conf': 0.09394468367099762}, {'class': 'acv70', 'conf': 0.06381446123123169}], 'plate_num': 'ย23', 'plate_url': 'https://storage.googleapis.com/images-bucks/16776963726816-plate.jpg?Expires=2023201118&GoogleAccessId=image-buck-sa%40carrgclassification.iam.gserviceaccount.com&Signature=qlfi4iTooHwcBaS3O5SI%2FJwmBc0a9It97jdkclw8OxWQKPcSZsEgygyIRNmdgbPE7wDXV9W7aFYjyX03%2BVEr65w%2BmblaSe5a37HzaCY1fajLkOT6%2B%2F24pPr8eFI%2B7cWAGe7sk7wul%2Fst3uUQ3xtglY4CmUL145JNx2gxlZnQcgOndV6jH2JKHXydV44vh3FggZ4fIuDDJUZBzxNN6zivY%2B2Xeo0ozI4Nza6iKvg9pnkSaCHBdartr4i1i5CwBV%2FU6gkZcj5yHyGCuRdQq%2F0UDPcYWIpPJobxygUKOHIRHSt32V2yvymj9zquExYU98Nb%2FVCjoBc3k3sOxh%2FpFHWQeA%3D%3D'}\n",
      "{'make': 'Unknown', 'model': 'Unknown', 'class': 'Unknown'}\n",
      "<pymongo.results.InsertOneResult object at 0x000001EB38430D30>\n",
      "1677696375352\n",
      "{'color': 'Yellow', 'model': 'unknown', 'possible': [{'class': 'acv40', 'conf': 0.12502773106098175}, {'class': 'e150', 'conf': 0.10994382202625275}, {'class': 'e160', 'conf': 0.09640373289585114}, {'class': 'swiift_ajp', 'conf': 0.09151452779769897}, {'class': 'yaris_old', 'conf': 0.07779395580291748}], 'plate_num': 'ธย1232', 'plate_url': 'https://storage.googleapis.com/images-bucks/16776963785256-plate.jpg?Expires=2023201118&GoogleAccessId=image-buck-sa%40carrgclassification.iam.gserviceaccount.com&Signature=ZDub6T1iibrAV7cKA8dODwQOhBNL0ms2TMeIC89wDyRCbAropMyt%2BinbUUxVjCEuWrlfSGWRNnv3wTYhhzwU5PHwWmWEex6lYec%2B8VHC0lrTfPu6m6YpzGppxWuwkQGAEWwY41gTYwTnhK8zzXT1kE7yEQ7nl%2B1wzwBhiLYmQs4CQY7LSZqO7h4gWcKtccyR3bfU3Gl1gkGJsvHvtrj%2B8JHmDcG6RbX3bKXONDMjoo6SIj0RI9fZ8DAGIOHo%2BwnDMRpOSvtyR2tOZ7FluVuxR34Pj3xlLswW8ckWk5Fb7qim3bleFeGoH3k3%2BSKaY52YdmYsnv2uNu%2FuSu4MT3uKiQ%3D%3D'}\n",
      "{'make': 'Unknown', 'model': 'Unknown', 'class': 'Unknown'}\n",
      "<pymongo.results.InsertOneResult object at 0x000001EB35E389D0>\n",
      "1677696383723\n",
      "{'color': 'White', 'model': 'unknown', 'possible': [{'class': 'e150', 'conf': 0.18391574919223785}, {'class': 'swiift_ajp', 'conf': 0.17934048175811768}, {'class': 'acv40', 'conf': 0.07910865545272827}, {'class': 'revo', 'conf': 0.069764643907547}, {'class': 'Mazda2', 'conf': 0.06403383612632751}], 'plate_num': 'ไม่พบป้ายทะเบียน', 'plate_url': None}\n",
      "{'make': 'Unknown', 'model': 'Unknown', 'class': 'Unknown'}\n",
      "<pymongo.results.InsertOneResult object at 0x000001EB2F5EBFD0>\n",
      "1677696410866\n",
      "{'color': 'Black', 'model': 'unknown', 'possible': [{'class': 'Mazda2', 'conf': 0.18148399889469147}, {'class': 'acv40', 'conf': 0.08720090240240097}, {'class': 'city_jimmy', 'conf': 0.0846366211771965}, {'class': 'corolla_cross', 'conf': 0.07630337029695511}, {'class': 'e150', 'conf': 0.07051566243171692}], 'plate_num': 'กม2558', 'plate_url': 'https://storage.googleapis.com/images-bucks/16776964141131-plate.jpg?Expires=2023201118&GoogleAccessId=image-buck-sa%40carrgclassification.iam.gserviceaccount.com&Signature=mOa9o24abf0HKLkL9d7Eop%2FcQVGmkOa3JfsEEn0%2F3N04mla4PSONpoXiqeTfWnxv3XKU%2F0FK8K0W%2BA5%2BNqH2mzgF5tr8HMTT736m7vMiuxbonGTWeyHS7FDKS8AJaQ0jD3Km7wfXAJK2eZYt8D4iDoYktD5Z9m7Uaeo%2BfBJfbIcNW0tPhfnKnQb5LrlzDkWS6PygP%2FNYvCWEqE%2BXYVuCew2o2%2B9QqPAkWYVHOKKCiqDzc4%2ByCymhnbQwzLME5HSMumvOmounPTHXLzw1b97A893oXUCHysf8tRxw%2FcN5LwBGxBRbMg4SaDIQpPlE5FUUycChqNhwp%2FqD2WLNOHCzbw%3D%3D'}\n",
      "{'make': 'Unknown', 'model': 'Unknown', 'class': 'Unknown'}\n",
      "<pymongo.results.InsertOneResult object at 0x000001EB2F5EB850>\n"
     ]
    }
   ],
   "source": [
    "detect_flow(\"./clips/use001.MP4\")"
   ]
  },
  {
   "cell_type": "code",
   "execution_count": 1,
   "metadata": {},
   "outputs": [
    {
     "name": "stdout",
     "output_type": "stream",
     "text": [
      "^C\n"
     ]
    }
   ],
   "source": [
    "! python app.py"
   ]
  }
 ],
 "metadata": {
  "kernelspec": {
   "display_name": "Python 3",
   "language": "python",
   "name": "python3"
  },
  "language_info": {
   "codemirror_mode": {
    "name": "ipython",
    "version": 3
   },
   "file_extension": ".py",
   "mimetype": "text/x-python",
   "name": "python",
   "nbconvert_exporter": "python",
   "pygments_lexer": "ipython3",
   "version": "3.9.7"
  },
  "orig_nbformat": 4,
  "vscode": {
   "interpreter": {
    "hash": "b67c5afb4a213e8fbdf683749ef35faca1ebc3e9a9bee2db524cf59386cbbd09"
   }
  }
 },
 "nbformat": 4,
 "nbformat_minor": 2
}
