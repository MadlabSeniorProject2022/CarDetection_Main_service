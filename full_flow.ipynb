{
 "cells": [
  {
   "cell_type": "code",
   "execution_count": 16,
   "metadata": {},
   "outputs": [],
   "source": [
    "import cv2\n",
    "import time\n",
    "import os\n",
    "from pathlib import Path\n",
    "\n",
    "import concurrent\n",
    "import requests"
   ]
  },
  {
   "cell_type": "code",
   "execution_count": 17,
   "metadata": {},
   "outputs": [],
   "source": [
    "def get_meta(img: cv2.Mat):\n",
    "    image_data = cv2.imencode('.jpg', img)[1].tobytes()\n",
    "    urls = [\n",
    "        \n",
    "        \"https://72c4-34-143-252-179.ngrok.io/useColor\",\n",
    "        \"https://52c7-35-247-181-246.ngrok.io/predict\"\n",
    "    ]\n",
    "\n",
    "    def request_post(url, data):\n",
    "        return requests.post(url, files={\"image\": data}).json()\n",
    "\n",
    "    with concurrent.futures.ThreadPoolExecutor() as executor: # optimally defined number of threads\n",
    "        res = [executor.submit(request_post, url, image_data) for url in urls]\n",
    "        concurrent.futures.wait(res)\n",
    "\n",
    "    return {\"color\": res[0].result()[\"predicted\"], \"model\": res[1].result()[\"predicted\"]}"
   ]
  },
  {
   "cell_type": "code",
   "execution_count": 8,
   "metadata": {},
   "outputs": [],
   "source": [
    "def crop_do (coor, img, conf, cls):\n",
    "    current_time = int(round(time.time() * 1000))\n",
    "    print(current_time)\n",
    "    if not os.path.exists(\"./runs/\"):\n",
    "        os.makedirs(\"./runs/\")\n",
    "    Path(\"./runs/Use1/\").mkdir(parents=True, exist_ok=True)\n",
    "    crop_img = img[ int(coor[1]) : int(coor[3]), int(coor[0]): int(coor[2])]\n",
    "    #result = cv2.resize(crop_img, (640, 640))\n",
    "    #result = cv2.cvtColor(result , cv2.COLOR_RGB2GRAY)\n",
    "    meta = get_meta(crop_img)\n",
    "    print(meta)\n",
    "    font = cv2.FONT_HERSHEY_SIMPLEX\n",
    "    cv2.putText(img, f'Color: {meta[\"color\"]}', (10,80), font, 3, (0, 0, 255), 2, cv2.LINE_AA)\n",
    "    cv2.putText(img, f'Model: {meta[\"model\"]}', (10,160), font, 3, (0, 0, 255), 2, cv2.LINE_AA)\n",
    "    cv2.imwrite(\"./runs/Use1/img\" + str(current_time) + \".jpg\", img)"
   ]
  },
  {
   "cell_type": "code",
   "execution_count": 19,
   "metadata": {},
   "outputs": [
    {
     "name": "stderr",
     "output_type": "stream",
     "text": [
      "YOLOR 🚀 2022-12-7 torch 1.12.1 CPU\n",
      "\n"
     ]
    },
    {
     "name": "stdout",
     "output_type": "stream",
     "text": [
      "Fusing layers... \n",
      "RepConv.fuse_repvgg_block\n",
      "RepConv.fuse_repvgg_block\n",
      "RepConv.fuse_repvgg_block\n"
     ]
    },
    {
     "name": "stderr",
     "output_type": "stream",
     "text": [
      "[W NNPACK.cpp:51] Could not initialize NNPACK! Reason: Unsupported hardware.\n",
      "Model Summary: 306 layers, 36905341 parameters, 36905341 gradients\n",
      "/opt/anaconda3/lib/python3.9/site-packages/torch/_tensor.py:1083: UserWarning: The .grad attribute of a Tensor that is not a leaf Tensor is being accessed. Its .grad attribute won't be populated during autograd.backward(). If you indeed want the .grad field to be populated for a non-leaf Tensor, use .retain_grad() on the non-leaf Tensor. If you access the non-leaf Tensor by mistake, make sure you access the leaf Tensor instead. See github.com/pytorch/pytorch/pull/30531 for more informations. (Triggered internally at  /Users/runner/work/pytorch/pytorch/pytorch/build/aten/src/ATen/core/TensorBody.h:482.)\n",
      "  return self._grad\n"
     ]
    },
    {
     "name": "stdout",
     "output_type": "stream",
     "text": [
      " Convert model to Traced-model... \n",
      " traced_script_module saved! \n",
      " model is traced! \n",
      "\n"
     ]
    }
   ],
   "source": [
    "from lean_detect import UseModel\n",
    "veh = UseModel(\"yolov7.pt\", detect_class=[2, 5, 7], confident=0.75)"
   ]
  },
  {
   "cell_type": "code",
   "execution_count": 10,
   "metadata": {},
   "outputs": [
    {
     "name": "stdout",
     "output_type": "stream",
     "text": [
      "1676910856195\n",
      "{'color': 'Black', 'model': 'Mazda2'}\n",
      "1676910878825\n",
      "{'color': 'White', 'model': 'yaris_old'}\n",
      "1676910890839\n",
      "{'color': 'Grey', 'model': 'unknown'}\n",
      "1676910917750\n",
      "{'color': 'Bronze', 'model': 'e150'}\n",
      "1676910956913\n",
      "{'color': 'Black', 'model': 'unknown'}\n",
      "1676910972707\n",
      "{'color': 'Blue', 'model': 'unknown'}\n",
      "1676910984259\n",
      "{'color': 'Brown', 'model': 'acv70'}\n",
      "1676911044339\n",
      "{'color': 'Black', 'model': 'yaris_mama'}\n",
      "1676911066751\n",
      "{'color': 'Black', 'model': 'civic_fc'}\n",
      "1676911078366\n",
      "{'color': 'Black', 'model': 'unknown'}\n",
      "1676911153672\n",
      "{'color': 'Blue', 'model': 'e160'}\n",
      "1676911188745\n",
      "{'color': 'White', 'model': 'rt50'}\n",
      "1676911225722\n",
      "{'color': 'Grey', 'model': 'unknown'}\n",
      "1676911246312\n",
      "{'color': 'Grey', 'model': 'unknown'}\n",
      "1676911267000\n",
      "{'color': 'Grey', 'model': 'unknown'}\n",
      "1676911281245\n",
      "{'color': 'Black', 'model': 'Mazda2'}\n",
      "1676911288581\n",
      "{'color': 'Black', 'model': 'unknown'}\n",
      "1676911293145\n",
      "{'color': 'Black', 'model': 'unknown'}\n",
      "1676911295670\n",
      "{'color': 'Brown', 'model': 'unknown'}\n",
      "1676911352924\n",
      "{'color': 'Blue', 'model': 'e160b'}\n",
      "1676911435898\n",
      "{'color': 'Black', 'model': 'unknown'}\n",
      "1676911476554\n",
      "{'color': 'Grey', 'model': 'unknown'}\n",
      "1676911527869\n",
      "{'color': 'White', 'model': 'unknown'}\n",
      "1676911551042\n",
      "{'color': 'Black', 'model': 'Mazda2'}\n",
      "1676911563298\n",
      "{'color': 'Black', 'model': 'Mazda2'}\n",
      "1676911604473\n",
      "{'color': 'White', 'model': 'unknown'}\n",
      "1676911627097\n",
      "{'color': 'Black', 'model': 'unknown'}\n",
      "1676911656132\n",
      "{'color': 'TAXI', 'model': 'unknown'}\n",
      "1676911669080\n",
      "{'color': 'Blue', 'model': 'unknown'}\n",
      "1676911682006\n",
      "{'color': 'Grey', 'model': 'unknown'}\n",
      "1676911734972\n",
      "{'color': 'Black', 'model': 'unknown'}\n",
      "1676911755934\n",
      "{'color': 'White', 'model': 'unknown'}\n",
      "1676911772632\n",
      "{'color': 'Black', 'model': 'unknown'}\n",
      "1676911800143\n",
      "{'color': 'Grey', 'model': 'unknown'}\n",
      "1676911827448\n",
      "{'color': 'Black', 'model': 'civic_fc'}\n",
      "1676911883572\n",
      "{'color': 'Black', 'model': 'unknown'}\n",
      "1676911967412\n",
      "{'color': 'Black', 'model': 'e160b'}\n",
      "1676911988058\n",
      "{'color': 'TAXI', 'model': 'unknown'}\n",
      "1676911990424\n",
      "{'color': 'TAXI', 'model': 'unknown'}\n",
      "1676911992871\n",
      "{'color': 'Yellow', 'model': 'unknown'}\n",
      "1676911998016\n",
      "{'color': 'White', 'model': 'unknown'}\n",
      "1676912028386\n",
      "{'color': 'Black', 'model': 'unknown'}\n"
     ]
    }
   ],
   "source": [
    "veh.detect(\"./clips/use001.MP4\" , do_function=crop_do)"
   ]
  },
  {
   "attachments": {},
   "cell_type": "markdown",
   "metadata": {},
   "source": [
    "# Google storage"
   ]
  },
  {
   "cell_type": "code",
   "execution_count": 1,
   "metadata": {},
   "outputs": [
    {
     "name": "stdout",
     "output_type": "stream",
     "text": [
      "Requirement already satisfied: google-cloud in /opt/anaconda3/lib/python3.9/site-packages (0.34.0)\n"
     ]
    }
   ],
   "source": [
    "! pip install google-cloud"
   ]
  },
  {
   "cell_type": "code",
   "execution_count": 2,
   "metadata": {},
   "outputs": [],
   "source": [
    "from google.cloud import storage\n",
    "import os\n",
    "\n",
    "os.environ[\"GOOGLE_APPLICATION_CREDENTIALS\"] = r'./carrgclassification-857e3c375cdd.json'\n",
    "\n",
    "def upload_cs_file(bucket_name, source_file_name, destination_file_name): \n",
    "    storage_client = storage.Client()\n",
    "\n",
    "    bucket = storage_client.bucket(bucket_name)\n",
    "\n",
    "    blob = bucket.blob(destination_file_name)\n",
    "    blob.upload_from_filename(source_file_name)"
   ]
  },
  {
   "cell_type": "code",
   "execution_count": 7,
   "metadata": {},
   "outputs": [],
   "source": [
    "import datetime\n",
    "\n",
    "def get_cs_file_url(bucket_name, file_name, expire_in=datetime.datetime.now() + datetime.timedelta(4000)): \n",
    "    storage_client = storage.Client()\n",
    "\n",
    "    bucket = storage_client.bucket(bucket_name)\n",
    "    url = bucket.blob(file_name).generate_signed_url(expire_in)\n",
    "\n",
    "    return url"
   ]
  },
  {
   "cell_type": "code",
   "execution_count": 3,
   "metadata": {},
   "outputs": [],
   "source": [
    "upload_cs_file('images-bucks', \"./DemoCase/img1676910856195.jpg\", \"test.jpg\")"
   ]
  },
  {
   "cell_type": "code",
   "execution_count": 10,
   "metadata": {},
   "outputs": [
    {
     "data": {
      "text/plain": [
       "'https://storage.googleapis.com/images-bucks/test.jpg?Expires=2022666100&GoogleAccessId=image-buck-sa%40carrgclassification.iam.gserviceaccount.com&Signature=cvXJubE%2BArPl2Z%2FrgmTN8pIU8w54gBJgVjd2roEXdUrm%2B2sbWpjVj%2FPF5R%2FFlXepsrQk4umm1gJ2Fm2qWi8nHW8XGyXoijH24%2F4p70ouiIj9UrS4M9twTlR0dEpb6w%2FAEyTWZK9yU2irtFpVClltdWgDA4TCTt8YBVSg5g%2BbRqaX5y3wlPRV16fdfqaZGzEVrYHtSn%2B8V%2FuCR2097ymAYBpOuSOYTl1hP6e07EprNFqC4ALQ3vP%2B3HFvXTVkC0ZziviE54m%2FIa1SaHUuSgPyYpCxahOAbYNBR6mcbsuo57oLQ9fEqhugVzjENkohyEEmXWcR9wkYORLDiRRUFHokjQ%3D%3D'"
      ]
     },
     "execution_count": 10,
     "metadata": {},
     "output_type": "execute_result"
    }
   ],
   "source": [
    "url = get_cs_file_url('images-bucks', \"test.jpg\")\n",
    "url"
   ]
  },
  {
   "cell_type": "code",
   "execution_count": 20,
   "metadata": {},
   "outputs": [],
   "source": [
    "import database as db"
   ]
  },
  {
   "cell_type": "code",
   "execution_count": 21,
   "metadata": {},
   "outputs": [],
   "source": [
    "import json\n",
    " \n",
    "# Opening JSON file\n",
    "with open('car_meta.json') as json_file:\n",
    "    car_meta = json.load(json_file)"
   ]
  },
  {
   "cell_type": "code",
   "execution_count": 23,
   "metadata": {},
   "outputs": [],
   "source": [
    "def cloud_image (bucket_name, source_file_name, destination_file_name):\n",
    "    upload_cs_file(bucket_name, source_file_name, destination_file_name)\n",
    "    url = get_cs_file_url(bucket_name, destination_file_name)\n",
    "    return url\n"
   ]
  },
  {
   "cell_type": "code",
   "execution_count": 24,
   "metadata": {},
   "outputs": [],
   "source": [
    "def crop_do (coor, img, conf, cls):\n",
    "    current_time = int(round(time.time() * 1000))\n",
    "    print(current_time)\n",
    "    if not os.path.exists(\"./runs/\"):\n",
    "        os.makedirs(\"./runs/\")\n",
    "    Path(\"./runs/Use1/\").mkdir(parents=True, exist_ok=True)\n",
    "    crop_img = img[ int(coor[1]) : int(coor[3]), int(coor[0]): int(coor[2])]\n",
    "    #result = cv2.resize(crop_img, (640, 640))\n",
    "    #result = cv2.cvtColor(result , cv2.COLOR_RGB2GRAY)\n",
    "    meta = get_meta(crop_img)\n",
    "    print(meta)\n",
    "    car_detail = car_meta[meta[\"model\"]]\n",
    "    print(car_detail)\n",
    "    cv2.imwrite(f\"./runs/Use1/{current_time}.jpg\", img)\n",
    "    origin_img_path = cloud_image('images-bucks', f\"./runs/Use1/{current_time}.jpg\", f'{current_time}-origin.jpg')\n",
    "    cv2.imwrite(f\"./runs/Use1/{current_time}-crop.jpg\", crop_img)\n",
    "    crop_img_path = cloud_image('images-bucks', f\"./runs/Use1/{current_time}-crop.jpg\", f'{current_time}-crop.jpg')\n",
    "\n",
    "    db.update_data(car_detail[\"make\"], car_detail[\"model\"], car_detail[\"class\"], \"Unknown\", meta[\"color\"], origin_img_path, None, crop_img_path)\n",
    "    "
   ]
  },
  {
   "cell_type": "code",
   "execution_count": 22,
   "metadata": {},
   "outputs": [
    {
     "ename": "Exception",
     "evalue": "ERROR: /Users/thisisthanick/Library/Mobile Documents/com~apple~CloudDocs/Dev/CarDetection_WebApp/clips/use001.MP4 does not exist",
     "output_type": "error",
     "traceback": [
      "\u001b[0;31m---------------------------------------------------------------------------\u001b[0m",
      "\u001b[0;31mException\u001b[0m                                 Traceback (most recent call last)",
      "\u001b[1;32m/Users/thisisthanick/Library/Mobile Documents/com~apple~CloudDocs/Dev/CarDetection_WebApp/full_flow.ipynb Cell 15\u001b[0m in \u001b[0;36m<cell line: 1>\u001b[0;34m()\u001b[0m\n\u001b[0;32m----> <a href='vscode-notebook-cell:/Users/thisisthanick/Library/Mobile%20Documents/com~apple~CloudDocs/Dev/CarDetection_WebApp/full_flow.ipynb#X20sZmlsZQ%3D%3D?line=0'>1</a>\u001b[0m veh\u001b[39m.\u001b[39;49mdetect(\u001b[39m\"\u001b[39;49m\u001b[39m./clips/use001.MP4\u001b[39;49m\u001b[39m\"\u001b[39;49m , do_function\u001b[39m=\u001b[39;49mcrop_do)\n",
      "File \u001b[0;32m~/Library/Mobile Documents/com~apple~CloudDocs/Dev/CarDetection_WebApp/lean_detect.py:45\u001b[0m, in \u001b[0;36mUseModel.detect\u001b[0;34m(self, source, do_function)\u001b[0m\n\u001b[1;32m     43\u001b[0m old_img_w \u001b[39m=\u001b[39m old_img_h \u001b[39m=\u001b[39m \u001b[39mself\u001b[39m\u001b[39m.\u001b[39mnorm_size\n\u001b[1;32m     44\u001b[0m old_img_b \u001b[39m=\u001b[39m \u001b[39m1\u001b[39m\n\u001b[0;32m---> 45\u001b[0m dataset \u001b[39m=\u001b[39m LoadImages(source, img_size\u001b[39m=\u001b[39;49m\u001b[39mself\u001b[39;49m\u001b[39m.\u001b[39;49mnorm_size, stride\u001b[39m=\u001b[39;49m\u001b[39mself\u001b[39;49m\u001b[39m.\u001b[39;49mstride)\n\u001b[1;32m     46\u001b[0m have: \u001b[39mbool\u001b[39m \u001b[39m=\u001b[39m \u001b[39mFalse\u001b[39;00m\n\u001b[1;32m     47\u001b[0m \u001b[39mfor\u001b[39;00m path, img, im0s, vid_cap \u001b[39min\u001b[39;00m dataset:\n",
      "File \u001b[0;32m~/Library/Mobile Documents/com~apple~CloudDocs/Dev/CarDetection_WebApp/utils/datasets.py:138\u001b[0m, in \u001b[0;36mLoadImages.__init__\u001b[0;34m(self, path, img_size, stride)\u001b[0m\n\u001b[1;32m    136\u001b[0m     files \u001b[39m=\u001b[39m [p]  \u001b[39m# files\u001b[39;00m\n\u001b[1;32m    137\u001b[0m \u001b[39melse\u001b[39;00m:\n\u001b[0;32m--> 138\u001b[0m     \u001b[39mraise\u001b[39;00m \u001b[39mException\u001b[39;00m(\u001b[39mf\u001b[39m\u001b[39m'\u001b[39m\u001b[39mERROR: \u001b[39m\u001b[39m{\u001b[39;00mp\u001b[39m}\u001b[39;00m\u001b[39m does not exist\u001b[39m\u001b[39m'\u001b[39m)\n\u001b[1;32m    140\u001b[0m images \u001b[39m=\u001b[39m [x \u001b[39mfor\u001b[39;00m x \u001b[39min\u001b[39;00m files \u001b[39mif\u001b[39;00m x\u001b[39m.\u001b[39msplit(\u001b[39m'\u001b[39m\u001b[39m.\u001b[39m\u001b[39m'\u001b[39m)[\u001b[39m-\u001b[39m\u001b[39m1\u001b[39m]\u001b[39m.\u001b[39mlower() \u001b[39min\u001b[39;00m img_formats]\n\u001b[1;32m    141\u001b[0m videos \u001b[39m=\u001b[39m [x \u001b[39mfor\u001b[39;00m x \u001b[39min\u001b[39;00m files \u001b[39mif\u001b[39;00m x\u001b[39m.\u001b[39msplit(\u001b[39m'\u001b[39m\u001b[39m.\u001b[39m\u001b[39m'\u001b[39m)[\u001b[39m-\u001b[39m\u001b[39m1\u001b[39m]\u001b[39m.\u001b[39mlower() \u001b[39min\u001b[39;00m vid_formats]\n",
      "\u001b[0;31mException\u001b[0m: ERROR: /Users/thisisthanick/Library/Mobile Documents/com~apple~CloudDocs/Dev/CarDetection_WebApp/clips/use001.MP4 does not exist"
     ]
    }
   ],
   "source": [
    "veh.detect(\"./clips/use001.MP4\" , do_function=crop_do)"
   ]
  },
  {
   "cell_type": "code",
   "execution_count": 1,
   "metadata": {},
   "outputs": [
    {
     "name": "stderr",
     "output_type": "stream",
     "text": [
      "YOLOR 🚀 2022-12-7 torch 1.12.1 CPU\n",
      "\n"
     ]
    },
    {
     "name": "stdout",
     "output_type": "stream",
     "text": [
      "Fusing layers... \n"
     ]
    },
    {
     "name": "stderr",
     "output_type": "stream",
     "text": [
      "[W NNPACK.cpp:51] Could not initialize NNPACK! Reason: Unsupported hardware.\n",
      "Model Summary: 306 layers, 36905341 parameters, 36905341 gradients\n"
     ]
    },
    {
     "name": "stdout",
     "output_type": "stream",
     "text": [
      "RepConv.fuse_repvgg_block\n",
      "RepConv.fuse_repvgg_block\n",
      "RepConv.fuse_repvgg_block\n",
      " Convert model to Traced-model... \n"
     ]
    },
    {
     "name": "stderr",
     "output_type": "stream",
     "text": [
      "/opt/anaconda3/lib/python3.9/site-packages/torch/_tensor.py:1083: UserWarning: The .grad attribute of a Tensor that is not a leaf Tensor is being accessed. Its .grad attribute won't be populated during autograd.backward(). If you indeed want the .grad field to be populated for a non-leaf Tensor, use .retain_grad() on the non-leaf Tensor. If you access the non-leaf Tensor by mistake, make sure you access the leaf Tensor instead. See github.com/pytorch/pytorch/pull/30531 for more informations. (Triggered internally at  /Users/runner/work/pytorch/pytorch/pytorch/build/aten/src/ATen/core/TensorBody.h:482.)\n",
      "  return self._grad\n"
     ]
    },
    {
     "name": "stdout",
     "output_type": "stream",
     "text": [
      " traced_script_module saved! \n",
      " model is traced! \n",
      "\n"
     ]
    }
   ],
   "source": [
    "from detect_flow import detect_flow"
   ]
  },
  {
   "cell_type": "code",
   "execution_count": 2,
   "metadata": {},
   "outputs": [
    {
     "name": "stderr",
     "output_type": "stream",
     "text": [
      "/opt/anaconda3/lib/python3.9/site-packages/torch/functional.py:478: UserWarning: torch.meshgrid: in an upcoming release, it will be required to pass the indexing argument. (Triggered internally at  /Users/runner/work/pytorch/pytorch/pytorch/aten/src/ATen/native/TensorShape.cpp:2895.)\n",
      "  return _VF.meshgrid(tensors, **kwargs)  # type: ignore[attr-defined]\n"
     ]
    },
    {
     "ename": "KeyboardInterrupt",
     "evalue": "",
     "output_type": "error",
     "traceback": [
      "\u001b[0;31m---------------------------------------------------------------------------\u001b[0m",
      "\u001b[0;31mKeyboardInterrupt\u001b[0m                         Traceback (most recent call last)",
      "\u001b[1;32m/Users/thisisthanick/Library/Mobile Documents/com~apple~CloudDocs/Dev/CarDetection_WebApp/full_flow.ipynb Cell 18\u001b[0m in \u001b[0;36m<cell line: 1>\u001b[0;34m()\u001b[0m\n\u001b[0;32m----> <a href='vscode-notebook-cell:/Users/thisisthanick/Library/Mobile%20Documents/com~apple~CloudDocs/Dev/CarDetection_WebApp/full_flow.ipynb#X23sZmlsZQ%3D%3D?line=0'>1</a>\u001b[0m detect_flow(\u001b[39m\"\u001b[39;49m\u001b[39mstatic/files/og/use002.MP4\u001b[39;49m\u001b[39m\"\u001b[39;49m)\n",
      "File \u001b[0;32m~/Library/Mobile Documents/com~apple~CloudDocs/Dev/CarDetection_WebApp/detect_flow.py:92\u001b[0m, in \u001b[0;36mdetect_flow\u001b[0;34m(source)\u001b[0m\n\u001b[1;32m     91\u001b[0m \u001b[39mdef\u001b[39;00m \u001b[39mdetect_flow\u001b[39m (source):\n\u001b[0;32m---> 92\u001b[0m     vehicle_detect_model\u001b[39m.\u001b[39;49mdetect(source, do_function\u001b[39m=\u001b[39;49mdetection_tasks)\n",
      "File \u001b[0;32m~/Library/Mobile Documents/com~apple~CloudDocs/Dev/CarDetection_WebApp/lean_detect.py:62\u001b[0m, in \u001b[0;36mUseModel.detect\u001b[0;34m(self, source, do_function)\u001b[0m\n\u001b[1;32m     59\u001b[0m     \u001b[39mfor\u001b[39;00m i \u001b[39min\u001b[39;00m \u001b[39mrange\u001b[39m(\u001b[39m3\u001b[39m):\n\u001b[1;32m     60\u001b[0m         \u001b[39mself\u001b[39m\u001b[39m.\u001b[39mmodel(img, augment\u001b[39m=\u001b[39m\u001b[39mFalse\u001b[39;00m)[\u001b[39m0\u001b[39m]\n\u001b[0;32m---> 62\u001b[0m pred \u001b[39m=\u001b[39m \u001b[39mself\u001b[39;49m\u001b[39m.\u001b[39;49mmodel(img, augment\u001b[39m=\u001b[39;49m\u001b[39mFalse\u001b[39;49;00m)[\u001b[39m0\u001b[39m]    \n\u001b[1;32m     63\u001b[0m pred \u001b[39m=\u001b[39m non_max_suppression(pred, \u001b[39mself\u001b[39m\u001b[39m.\u001b[39mconfident, \u001b[39mself\u001b[39m\u001b[39m.\u001b[39miou, classes\u001b[39m=\u001b[39m\u001b[39mself\u001b[39m\u001b[39m.\u001b[39mdetect_class, agnostic\u001b[39m=\u001b[39m\u001b[39mFalse\u001b[39;00m)\n\u001b[1;32m     65\u001b[0m \u001b[39m# Do function that include\u001b[39;00m\n\u001b[1;32m     66\u001b[0m \u001b[39m#if do_function != None:\u001b[39;00m\n\u001b[1;32m     67\u001b[0m \u001b[39m#    return do_function(pred, im0s, dataset)\u001b[39;00m\n\u001b[1;32m     68\u001b[0m \u001b[39m# If function not include, return as predicted value\u001b[39;00m\n\u001b[1;32m     69\u001b[0m \u001b[39m#return pred\u001b[39;00m\n",
      "File \u001b[0;32m/opt/anaconda3/lib/python3.9/site-packages/torch/nn/modules/module.py:1130\u001b[0m, in \u001b[0;36mModule._call_impl\u001b[0;34m(self, *input, **kwargs)\u001b[0m\n\u001b[1;32m   1126\u001b[0m \u001b[39m# If we don't have any hooks, we want to skip the rest of the logic in\u001b[39;00m\n\u001b[1;32m   1127\u001b[0m \u001b[39m# this function, and just call forward.\u001b[39;00m\n\u001b[1;32m   1128\u001b[0m \u001b[39mif\u001b[39;00m \u001b[39mnot\u001b[39;00m (\u001b[39mself\u001b[39m\u001b[39m.\u001b[39m_backward_hooks \u001b[39mor\u001b[39;00m \u001b[39mself\u001b[39m\u001b[39m.\u001b[39m_forward_hooks \u001b[39mor\u001b[39;00m \u001b[39mself\u001b[39m\u001b[39m.\u001b[39m_forward_pre_hooks \u001b[39mor\u001b[39;00m _global_backward_hooks\n\u001b[1;32m   1129\u001b[0m         \u001b[39mor\u001b[39;00m _global_forward_hooks \u001b[39mor\u001b[39;00m _global_forward_pre_hooks):\n\u001b[0;32m-> 1130\u001b[0m     \u001b[39mreturn\u001b[39;00m forward_call(\u001b[39m*\u001b[39;49m\u001b[39minput\u001b[39;49m, \u001b[39m*\u001b[39;49m\u001b[39m*\u001b[39;49mkwargs)\n\u001b[1;32m   1131\u001b[0m \u001b[39m# Do not call functions when jit is used\u001b[39;00m\n\u001b[1;32m   1132\u001b[0m full_backward_hooks, non_full_backward_hooks \u001b[39m=\u001b[39m [], []\n",
      "File \u001b[0;32m~/Library/Mobile Documents/com~apple~CloudDocs/Dev/CarDetection_WebApp/utils/torch_utils.py:372\u001b[0m, in \u001b[0;36mTracedModel.forward\u001b[0;34m(self, x, augment, profile)\u001b[0m\n\u001b[1;32m    371\u001b[0m \u001b[39mdef\u001b[39;00m \u001b[39mforward\u001b[39m(\u001b[39mself\u001b[39m, x, augment\u001b[39m=\u001b[39m\u001b[39mFalse\u001b[39;00m, profile\u001b[39m=\u001b[39m\u001b[39mFalse\u001b[39;00m):\n\u001b[0;32m--> 372\u001b[0m     out \u001b[39m=\u001b[39m \u001b[39mself\u001b[39;49m\u001b[39m.\u001b[39;49mmodel(x)\n\u001b[1;32m    373\u001b[0m     out \u001b[39m=\u001b[39m \u001b[39mself\u001b[39m\u001b[39m.\u001b[39mdetect_layer(out)\n\u001b[1;32m    374\u001b[0m     \u001b[39mreturn\u001b[39;00m out\n",
      "File \u001b[0;32m/opt/anaconda3/lib/python3.9/site-packages/torch/nn/modules/module.py:1130\u001b[0m, in \u001b[0;36mModule._call_impl\u001b[0;34m(self, *input, **kwargs)\u001b[0m\n\u001b[1;32m   1126\u001b[0m \u001b[39m# If we don't have any hooks, we want to skip the rest of the logic in\u001b[39;00m\n\u001b[1;32m   1127\u001b[0m \u001b[39m# this function, and just call forward.\u001b[39;00m\n\u001b[1;32m   1128\u001b[0m \u001b[39mif\u001b[39;00m \u001b[39mnot\u001b[39;00m (\u001b[39mself\u001b[39m\u001b[39m.\u001b[39m_backward_hooks \u001b[39mor\u001b[39;00m \u001b[39mself\u001b[39m\u001b[39m.\u001b[39m_forward_hooks \u001b[39mor\u001b[39;00m \u001b[39mself\u001b[39m\u001b[39m.\u001b[39m_forward_pre_hooks \u001b[39mor\u001b[39;00m _global_backward_hooks\n\u001b[1;32m   1129\u001b[0m         \u001b[39mor\u001b[39;00m _global_forward_hooks \u001b[39mor\u001b[39;00m _global_forward_pre_hooks):\n\u001b[0;32m-> 1130\u001b[0m     \u001b[39mreturn\u001b[39;00m forward_call(\u001b[39m*\u001b[39;49m\u001b[39minput\u001b[39;49m, \u001b[39m*\u001b[39;49m\u001b[39m*\u001b[39;49mkwargs)\n\u001b[1;32m   1131\u001b[0m \u001b[39m# Do not call functions when jit is used\u001b[39;00m\n\u001b[1;32m   1132\u001b[0m full_backward_hooks, non_full_backward_hooks \u001b[39m=\u001b[39m [], []\n",
      "\u001b[0;31mKeyboardInterrupt\u001b[0m: "
     ]
    }
   ],
   "source": [
    "detect_flow(\"static/files/og/use002.MP4\")"
   ]
  }
 ],
 "metadata": {
  "kernelspec": {
   "display_name": "base",
   "language": "python",
   "name": "python3"
  },
  "language_info": {
   "codemirror_mode": {
    "name": "ipython",
    "version": 3
   },
   "file_extension": ".py",
   "mimetype": "text/x-python",
   "name": "python",
   "nbconvert_exporter": "python",
   "pygments_lexer": "ipython3",
   "version": "3.9.12"
  },
  "orig_nbformat": 4,
  "vscode": {
   "interpreter": {
    "hash": "40d3a090f54c6569ab1632332b64b2c03c39dcf918b08424e98f38b5ae0af88f"
   }
  }
 },
 "nbformat": 4,
 "nbformat_minor": 2
}
