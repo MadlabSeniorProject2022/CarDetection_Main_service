{
 "cells": [
  {
   "cell_type": "code",
   "execution_count": 1,
   "metadata": {},
   "outputs": [],
   "source": [
    "import cv2\n",
    "import time\n",
    "import os\n",
    "from pathlib import Path\n",
    "\n",
    "import concurrent\n",
    "import requests"
   ]
  },
  {
   "cell_type": "code",
   "execution_count": 2,
   "metadata": {},
   "outputs": [],
   "source": [
    "def get_meta(img: cv2.Mat):\n",
    "    image_data = cv2.imencode('.jpg', img)[1].tobytes()\n",
    "    urls = [\n",
    "        \n",
    "        \"https://72c4-34-143-252-179.ngrok.io/useColor\",\n",
    "        \"https://52c7-35-247-181-246.ngrok.io/predict\"\n",
    "    ]\n",
    "\n",
    "    def request_post(url, data):\n",
    "        return requests.post(url, files={\"image\": data}).json()\n",
    "\n",
    "    with concurrent.futures.ThreadPoolExecutor() as executor: # optimally defined number of threads\n",
    "        res = [executor.submit(request_post, url, image_data) for url in urls]\n",
    "        concurrent.futures.wait(res)\n",
    "\n",
    "    return {\"color\": res[0].result()[\"predicted\"], \"model\": res[1].result()[\"predicted\"]}"
   ]
  },
  {
   "cell_type": "code",
   "execution_count": 3,
   "metadata": {},
   "outputs": [],
   "source": [
    "def crop_do (coor, img, conf, cls):\n",
    "    current_time = int(round(time.time() * 1000))\n",
    "    print(current_time)\n",
    "    if not os.path.exists(\"./runs/\"):\n",
    "        os.makedirs(\"./runs/\")\n",
    "    Path(\"./runs/Test3/\").mkdir(parents=True, exist_ok=True)\n",
    "    crop_img = img[ int(coor[1]) : int(coor[3]), int(coor[0]): int(coor[2])]\n",
    "    #result = cv2.resize(crop_img, (640, 640))\n",
    "    #result = cv2.cvtColor(result , cv2.COLOR_RGB2GRAY)\n",
    "    meta = get_meta(crop_img)\n",
    "    print(meta)\n",
    "    cv2.imwrite(\"./runs/Test3/img\" + str(current_time) + \".jpg\", crop_img)"
   ]
  },
  {
   "cell_type": "code",
   "execution_count": 4,
   "metadata": {},
   "outputs": [
    {
     "name": "stderr",
     "output_type": "stream",
     "text": [
      "YOLOR  7d04437 torch 1.9.0+cu111 CUDA:0 (NVIDIA GeForce RTX 3060 Ti, 8191.375MB)\n",
      "\n"
     ]
    },
    {
     "name": "stdout",
     "output_type": "stream",
     "text": [
      "Fusing layers... \n",
      "RepConv.fuse_repvgg_block\n",
      "RepConv.fuse_repvgg_block\n",
      "RepConv.fuse_repvgg_block\n"
     ]
    },
    {
     "name": "stderr",
     "output_type": "stream",
     "text": [
      "c:\\Users\\PPUNN\\anaconda3\\lib\\site-packages\\torch\\nn\\functional.py:718: UserWarning: Named tensors and all their associated APIs are an experimental feature and subject to change. Please do not use them for anything important until they are released as stable. (Triggered internally at  ..\\c10/core/TensorImpl.h:1156.)\n",
      "  return torch.max_pool2d(input, kernel_size, stride, padding, dilation, ceil_mode)\n",
      "Model Summary: 306 layers, 36905341 parameters, 36905341 gradients, 104.5 GFLOPS\n",
      "c:\\Users\\PPUNN\\anaconda3\\lib\\site-packages\\torch\\nn\\modules\\module.py:561: UserWarning: The .grad attribute of a Tensor that is not a leaf Tensor is being accessed. Its .grad attribute won't be populated during autograd.backward(). If you indeed want the gradient for a non-leaf Tensor, use .retain_grad() on the non-leaf Tensor. If you access the non-leaf Tensor by mistake, make sure you access the leaf Tensor instead. See github.com/pytorch/pytorch/pull/30531 for more information.\n",
      "  if param.grad is not None:\n"
     ]
    },
    {
     "name": "stdout",
     "output_type": "stream",
     "text": [
      " Convert model to Traced-model... \n",
      " traced_script_module saved! \n",
      " model is traced! \n",
      "\n"
     ]
    }
   ],
   "source": [
    "from lean_detect import UseModel\n",
    "veh = UseModel(\"yolov7.pt\", detect_class=[2, 5, 7], confident=0.75)"
   ]
  },
  {
   "cell_type": "code",
   "execution_count": 5,
   "metadata": {},
   "outputs": [
    {
     "name": "stdout",
     "output_type": "stream",
     "text": [
      "1676903237820\n",
      "{'color': 'Black', 'model': 'Mazda2'}\n",
      "1676903261486\n",
      "{'color': 'White', 'model': 'yaris_old'}\n",
      "1676903273362\n",
      "{'color': 'Grey', 'model': 'unknown'}\n",
      "1676903300638\n",
      "{'color': 'Bronze', 'model': 'e150'}\n",
      "1676903339862\n",
      "{'color': 'Black', 'model': 'unknown'}\n",
      "1676903355698\n",
      "{'color': 'Blue', 'model': 'unknown'}\n",
      "1676903368777\n",
      "{'color': 'Brown', 'model': 'acv70'}\n",
      "1676903434644\n",
      "{'color': 'Black', 'model': 'yaris_mama'}\n",
      "1676903456657\n",
      "{'color': 'Black', 'model': 'civic_fc'}\n",
      "1676903468124\n",
      "{'color': 'Black', 'model': 'unknown'}\n",
      "1676903531722\n",
      "{'color': 'Blue', 'model': 'e160'}\n",
      "1676903561321\n",
      "{'color': 'White', 'model': 'rt50'}\n",
      "1676903592325\n",
      "{'color': 'Grey', 'model': 'unknown'}\n",
      "1676903609921\n",
      "{'color': 'Grey', 'model': 'unknown'}\n",
      "1676903626357\n",
      "{'color': 'Grey', 'model': 'unknown'}\n",
      "1676903638469\n",
      "{'color': 'Black', 'model': 'Mazda2'}\n",
      "1676903644945\n",
      "{'color': 'Black', 'model': 'unknown'}\n",
      "1676903649385\n",
      "{'color': 'Black', 'model': 'unknown'}\n",
      "1676903652088\n",
      "{'color': 'Brown', 'model': 'unknown'}\n",
      "1676903700409\n",
      "{'color': 'Blue', 'model': 'e160b'}\n",
      "1676903766710\n",
      "{'color': 'Black', 'model': 'unknown'}\n",
      "1676903799723\n",
      "{'color': 'Grey', 'model': 'unknown'}\n",
      "1676903842667\n",
      "{'color': 'White', 'model': 'unknown'}\n",
      "1676903862273\n",
      "{'color': 'Black', 'model': 'Mazda2'}\n",
      "1676903872570\n",
      "{'color': 'Black', 'model': 'Mazda2'}\n",
      "1676903907839\n",
      "{'color': 'White', 'model': 'unknown'}\n",
      "1676903927264\n",
      "{'color': 'Black', 'model': 'unknown'}\n",
      "1676903952411\n",
      "{'color': 'TAXI', 'model': 'unknown'}\n",
      "1676903964064\n",
      "{'color': 'Blue', 'model': 'unknown'}\n",
      "1676903975338\n",
      "{'color': 'Grey', 'model': 'unknown'}\n",
      "1676904020369\n",
      "{'color': 'Black', 'model': 'unknown'}\n",
      "1676904038388\n",
      "{'color': 'White', 'model': 'unknown'}\n",
      "1676904053208\n",
      "{'color': 'Black', 'model': 'unknown'}\n",
      "1676904077385\n",
      "{'color': 'Grey', 'model': 'unknown'}\n",
      "1676904100948\n",
      "{'color': 'Black', 'model': 'civic_fc'}\n",
      "1676904148036\n",
      "{'color': 'Black', 'model': 'unknown'}\n",
      "1676904221695\n",
      "{'color': 'Black', 'model': 'e160b'}\n",
      "1676904239574\n",
      "{'color': 'TAXI', 'model': 'unknown'}\n",
      "1676904241782\n",
      "{'color': 'TAXI', 'model': 'unknown'}\n",
      "1676904244317\n",
      "{'color': 'Yellow', 'model': 'unknown'}\n",
      "1676904249027\n",
      "{'color': 'White', 'model': 'unknown'}\n",
      "1676904274039\n",
      "{'color': 'Black', 'model': 'unknown'}\n"
     ]
    }
   ],
   "source": [
    "veh.detect(\"./clips/use001.MP4\" , do_function=crop_do)"
   ]
  }
 ],
 "metadata": {
  "kernelspec": {
   "display_name": "Python 3",
   "language": "python",
   "name": "python3"
  },
  "language_info": {
   "codemirror_mode": {
    "name": "ipython",
    "version": 3
   },
   "file_extension": ".py",
   "mimetype": "text/x-python",
   "name": "python",
   "nbconvert_exporter": "python",
   "pygments_lexer": "ipython3",
   "version": "3.9.7"
  },
  "orig_nbformat": 4,
  "vscode": {
   "interpreter": {
    "hash": "b67c5afb4a213e8fbdf683749ef35faca1ebc3e9a9bee2db524cf59386cbbd09"
   }
  }
 },
 "nbformat": 4,
 "nbformat_minor": 2
}
