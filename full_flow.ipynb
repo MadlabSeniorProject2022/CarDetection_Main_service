{
 "cells": [
  {
   "cell_type": "code",
   "execution_count": 16,
   "metadata": {},
   "outputs": [],
   "source": [
    "import cv2\n",
    "import time\n",
    "import os\n",
    "from pathlib import Path\n",
    "\n",
    "import concurrent\n",
    "import requests"
   ]
  },
  {
   "cell_type": "code",
   "execution_count": 17,
   "metadata": {},
   "outputs": [],
   "source": [
    "def get_meta(img: cv2.Mat):\n",
    "    image_data = cv2.imencode('.jpg', img)[1].tobytes()\n",
    "    urls = [\n",
    "        \n",
    "        \"https://72c4-34-143-252-179.ngrok.io/useColor\",\n",
    "        \"https://52c7-35-247-181-246.ngrok.io/predict\"\n",
    "    ]\n",
    "\n",
    "    def request_post(url, data):\n",
    "        return requests.post(url, files={\"image\": data}).json()\n",
    "\n",
    "    with concurrent.futures.ThreadPoolExecutor() as executor: # optimally defined number of threads\n",
    "        res = [executor.submit(request_post, url, image_data) for url in urls]\n",
    "        concurrent.futures.wait(res)\n",
    "\n",
    "    return {\"color\": res[0].result()[\"predicted\"], \"model\": res[1].result()[\"predicted\"]}"
   ]
  },
  {
   "cell_type": "code",
   "execution_count": 8,
   "metadata": {},
   "outputs": [],
   "source": [
    "def crop_do (coor, img, conf, cls):\n",
    "    current_time = int(round(time.time() * 1000))\n",
    "    print(current_time)\n",
    "    if not os.path.exists(\"./runs/\"):\n",
    "        os.makedirs(\"./runs/\")\n",
    "    Path(\"./runs/Use1/\").mkdir(parents=True, exist_ok=True)\n",
    "    crop_img = img[ int(coor[1]) : int(coor[3]), int(coor[0]): int(coor[2])]\n",
    "    #result = cv2.resize(crop_img, (640, 640))\n",
    "    #result = cv2.cvtColor(result , cv2.COLOR_RGB2GRAY)\n",
    "    meta = get_meta(crop_img)\n",
    "    print(meta)\n",
    "    font = cv2.FONT_HERSHEY_SIMPLEX\n",
    "    cv2.putText(img, f'Color: {meta[\"color\"]}', (10,80), font, 3, (0, 0, 255), 2, cv2.LINE_AA)\n",
    "    cv2.putText(img, f'Model: {meta[\"model\"]}', (10,160), font, 3, (0, 0, 255), 2, cv2.LINE_AA)\n",
    "    cv2.imwrite(\"./runs/Use1/img\" + str(current_time) + \".jpg\", img)"
   ]
  },
  {
   "cell_type": "code",
   "execution_count": 19,
   "metadata": {},
   "outputs": [
    {
     "name": "stderr",
     "output_type": "stream",
     "text": [
      "YOLOR 🚀 2022-12-7 torch 1.12.1 CPU\n",
      "\n"
     ]
    },
    {
     "name": "stdout",
     "output_type": "stream",
     "text": [
      "Fusing layers... \n",
      "RepConv.fuse_repvgg_block\n",
      "RepConv.fuse_repvgg_block\n",
      "RepConv.fuse_repvgg_block\n"
     ]
    },
    {
     "name": "stderr",
     "output_type": "stream",
     "text": [
      "[W NNPACK.cpp:51] Could not initialize NNPACK! Reason: Unsupported hardware.\n",
      "Model Summary: 306 layers, 36905341 parameters, 36905341 gradients\n",
      "/opt/anaconda3/lib/python3.9/site-packages/torch/_tensor.py:1083: UserWarning: The .grad attribute of a Tensor that is not a leaf Tensor is being accessed. Its .grad attribute won't be populated during autograd.backward(). If you indeed want the .grad field to be populated for a non-leaf Tensor, use .retain_grad() on the non-leaf Tensor. If you access the non-leaf Tensor by mistake, make sure you access the leaf Tensor instead. See github.com/pytorch/pytorch/pull/30531 for more informations. (Triggered internally at  /Users/runner/work/pytorch/pytorch/pytorch/build/aten/src/ATen/core/TensorBody.h:482.)\n",
      "  return self._grad\n"
     ]
    },
    {
     "name": "stdout",
     "output_type": "stream",
     "text": [
      " Convert model to Traced-model... \n",
      " traced_script_module saved! \n",
      " model is traced! \n",
      "\n"
     ]
    }
   ],
   "source": [
    "from lean_detect import UseModel\n",
    "veh = UseModel(\"yolov7.pt\", detect_class=[2, 5, 7], confident=0.75)"
   ]
  },
  {
   "cell_type": "code",
   "execution_count": 10,
   "metadata": {},
   "outputs": [
    {
     "name": "stdout",
     "output_type": "stream",
     "text": [
      "1676910856195\n",
      "{'color': 'Black', 'model': 'Mazda2'}\n",
      "1676910878825\n",
      "{'color': 'White', 'model': 'yaris_old'}\n",
      "1676910890839\n",
      "{'color': 'Grey', 'model': 'unknown'}\n",
      "1676910917750\n",
      "{'color': 'Bronze', 'model': 'e150'}\n",
      "1676910956913\n",
      "{'color': 'Black', 'model': 'unknown'}\n",
      "1676910972707\n",
      "{'color': 'Blue', 'model': 'unknown'}\n",
      "1676910984259\n",
      "{'color': 'Brown', 'model': 'acv70'}\n",
      "1676911044339\n",
      "{'color': 'Black', 'model': 'yaris_mama'}\n",
      "1676911066751\n",
      "{'color': 'Black', 'model': 'civic_fc'}\n",
      "1676911078366\n",
      "{'color': 'Black', 'model': 'unknown'}\n",
      "1676911153672\n",
      "{'color': 'Blue', 'model': 'e160'}\n",
      "1676911188745\n",
      "{'color': 'White', 'model': 'rt50'}\n",
      "1676911225722\n",
      "{'color': 'Grey', 'model': 'unknown'}\n",
      "1676911246312\n",
      "{'color': 'Grey', 'model': 'unknown'}\n",
      "1676911267000\n",
      "{'color': 'Grey', 'model': 'unknown'}\n",
      "1676911281245\n",
      "{'color': 'Black', 'model': 'Mazda2'}\n",
      "1676911288581\n",
      "{'color': 'Black', 'model': 'unknown'}\n",
      "1676911293145\n",
      "{'color': 'Black', 'model': 'unknown'}\n",
      "1676911295670\n",
      "{'color': 'Brown', 'model': 'unknown'}\n",
      "1676911352924\n",
      "{'color': 'Blue', 'model': 'e160b'}\n",
      "1676911435898\n",
      "{'color': 'Black', 'model': 'unknown'}\n",
      "1676911476554\n",
      "{'color': 'Grey', 'model': 'unknown'}\n",
      "1676911527869\n",
      "{'color': 'White', 'model': 'unknown'}\n",
      "1676911551042\n",
      "{'color': 'Black', 'model': 'Mazda2'}\n",
      "1676911563298\n",
      "{'color': 'Black', 'model': 'Mazda2'}\n",
      "1676911604473\n",
      "{'color': 'White', 'model': 'unknown'}\n",
      "1676911627097\n",
      "{'color': 'Black', 'model': 'unknown'}\n",
      "1676911656132\n",
      "{'color': 'TAXI', 'model': 'unknown'}\n",
      "1676911669080\n",
      "{'color': 'Blue', 'model': 'unknown'}\n",
      "1676911682006\n",
      "{'color': 'Grey', 'model': 'unknown'}\n",
      "1676911734972\n",
      "{'color': 'Black', 'model': 'unknown'}\n",
      "1676911755934\n",
      "{'color': 'White', 'model': 'unknown'}\n",
      "1676911772632\n",
      "{'color': 'Black', 'model': 'unknown'}\n",
      "1676911800143\n",
      "{'color': 'Grey', 'model': 'unknown'}\n",
      "1676911827448\n",
      "{'color': 'Black', 'model': 'civic_fc'}\n",
      "1676911883572\n",
      "{'color': 'Black', 'model': 'unknown'}\n",
      "1676911967412\n",
      "{'color': 'Black', 'model': 'e160b'}\n",
      "1676911988058\n",
      "{'color': 'TAXI', 'model': 'unknown'}\n",
      "1676911990424\n",
      "{'color': 'TAXI', 'model': 'unknown'}\n",
      "1676911992871\n",
      "{'color': 'Yellow', 'model': 'unknown'}\n",
      "1676911998016\n",
      "{'color': 'White', 'model': 'unknown'}\n",
      "1676912028386\n",
      "{'color': 'Black', 'model': 'unknown'}\n"
     ]
    }
   ],
   "source": [
    "veh.detect(\"./clips/use001.MP4\" , do_function=crop_do)"
   ]
  },
  {
   "attachments": {},
   "cell_type": "markdown",
   "metadata": {},
   "source": [
    "# Google storage"
   ]
  },
  {
   "cell_type": "code",
   "execution_count": 1,
   "metadata": {},
   "outputs": [
    {
     "name": "stdout",
     "output_type": "stream",
     "text": [
      "Requirement already satisfied: google-cloud in /opt/anaconda3/lib/python3.9/site-packages (0.34.0)\n"
     ]
    }
   ],
   "source": [
    "! pip install google-cloud"
   ]
  },
  {
   "cell_type": "code",
   "execution_count": 2,
   "metadata": {},
   "outputs": [],
   "source": [
    "from google.cloud import storage\n",
    "import os\n",
    "\n",
    "os.environ[\"GOOGLE_APPLICATION_CREDENTIALS\"] = r'./carrgclassification-857e3c375cdd.json'\n",
    "\n",
    "def upload_cs_file(bucket_name, source_file_name, destination_file_name): \n",
    "    storage_client = storage.Client()\n",
    "\n",
    "    bucket = storage_client.bucket(bucket_name)\n",
    "\n",
    "    blob = bucket.blob(destination_file_name)\n",
    "    blob.upload_from_filename(source_file_name)"
   ]
  },
  {
   "cell_type": "code",
   "execution_count": 7,
   "metadata": {},
   "outputs": [],
   "source": [
    "import datetime\n",
    "\n",
    "def get_cs_file_url(bucket_name, file_name, expire_in=datetime.datetime.now() + datetime.timedelta(4000)): \n",
    "    storage_client = storage.Client()\n",
    "\n",
    "    bucket = storage_client.bucket(bucket_name)\n",
    "    url = bucket.blob(file_name).generate_signed_url(expire_in)\n",
    "\n",
    "    return url"
   ]
  },
  {
   "cell_type": "code",
   "execution_count": 3,
   "metadata": {},
   "outputs": [],
   "source": [
    "upload_cs_file('images-bucks', \"./DemoCase/img1676910856195.jpg\", \"test.jpg\")"
   ]
  },
  {
   "cell_type": "code",
   "execution_count": 10,
   "metadata": {},
   "outputs": [
    {
     "data": {
      "text/plain": [
       "'https://storage.googleapis.com/images-bucks/test.jpg?Expires=2022666100&GoogleAccessId=image-buck-sa%40carrgclassification.iam.gserviceaccount.com&Signature=cvXJubE%2BArPl2Z%2FrgmTN8pIU8w54gBJgVjd2roEXdUrm%2B2sbWpjVj%2FPF5R%2FFlXepsrQk4umm1gJ2Fm2qWi8nHW8XGyXoijH24%2F4p70ouiIj9UrS4M9twTlR0dEpb6w%2FAEyTWZK9yU2irtFpVClltdWgDA4TCTt8YBVSg5g%2BbRqaX5y3wlPRV16fdfqaZGzEVrYHtSn%2B8V%2FuCR2097ymAYBpOuSOYTl1hP6e07EprNFqC4ALQ3vP%2B3HFvXTVkC0ZziviE54m%2FIa1SaHUuSgPyYpCxahOAbYNBR6mcbsuo57oLQ9fEqhugVzjENkohyEEmXWcR9wkYORLDiRRUFHokjQ%3D%3D'"
      ]
     },
     "execution_count": 10,
     "metadata": {},
     "output_type": "execute_result"
    }
   ],
   "source": [
    "url = get_cs_file_url('images-bucks', \"test.jpg\")\n",
    "url"
   ]
  },
  {
   "cell_type": "code",
   "execution_count": 20,
   "metadata": {},
   "outputs": [],
   "source": [
    "import database as db"
   ]
  },
  {
   "cell_type": "code",
   "execution_count": 21,
   "metadata": {},
   "outputs": [],
   "source": [
    "import json\n",
    " \n",
    "# Opening JSON file\n",
    "with open('car_meta.json') as json_file:\n",
    "    car_meta = json.load(json_file)"
   ]
  },
  {
   "cell_type": "code",
   "execution_count": 23,
   "metadata": {},
   "outputs": [],
   "source": [
    "def cloud_image (bucket_name, source_file_name, destination_file_name):\n",
    "    upload_cs_file(bucket_name, source_file_name, destination_file_name)\n",
    "    url = get_cs_file_url(bucket_name, destination_file_name)\n",
    "    return url\n"
   ]
  },
  {
   "cell_type": "code",
   "execution_count": 24,
   "metadata": {},
   "outputs": [],
   "source": [
    "def crop_do (coor, img, conf, cls):\n",
    "    current_time = int(round(time.time() * 1000))\n",
    "    print(current_time)\n",
    "    if not os.path.exists(\"./runs/\"):\n",
    "        os.makedirs(\"./runs/\")\n",
    "    Path(\"./runs/Use1/\").mkdir(parents=True, exist_ok=True)\n",
    "    crop_img = img[ int(coor[1]) : int(coor[3]), int(coor[0]): int(coor[2])]\n",
    "    #result = cv2.resize(crop_img, (640, 640))\n",
    "    #result = cv2.cvtColor(result , cv2.COLOR_RGB2GRAY)\n",
    "    meta = get_meta(crop_img)\n",
    "    print(meta)\n",
    "    car_detail = car_meta[meta[\"model\"]]\n",
    "    print(car_detail)\n",
    "    cv2.imwrite(f\"./runs/Use1/{current_time}.jpg\", img)\n",
    "    origin_img_path = cloud_image('images-bucks', f\"./runs/Use1/{current_time}.jpg\", f'{current_time}-origin.jpg')\n",
    "    cv2.imwrite(f\"./runs/Use1/{current_time}-crop.jpg\", crop_img)\n",
    "    crop_img_path = cloud_image('images-bucks', f\"./runs/Use1/{current_time}-crop.jpg\", f'{current_time}-crop.jpg')\n",
    "\n",
    "    db.update_data(car_detail[\"make\"], car_detail[\"model\"], car_detail[\"class\"], \"Unknown\", meta[\"color\"], origin_img_path, None, crop_img_path)\n",
    "    "
   ]
  },
  {
   "cell_type": "code",
   "execution_count": 22,
   "metadata": {},
   "outputs": [
    {
     "ename": "Exception",
     "evalue": "ERROR: /Users/thisisthanick/Library/Mobile Documents/com~apple~CloudDocs/Dev/CarDetection_WebApp/clips/use001.MP4 does not exist",
     "output_type": "error",
     "traceback": [
      "\u001b[0;31m---------------------------------------------------------------------------\u001b[0m",
      "\u001b[0;31mException\u001b[0m                                 Traceback (most recent call last)",
      "\u001b[1;32m/Users/thisisthanick/Library/Mobile Documents/com~apple~CloudDocs/Dev/CarDetection_WebApp/full_flow.ipynb Cell 15\u001b[0m in \u001b[0;36m<cell line: 1>\u001b[0;34m()\u001b[0m\n\u001b[0;32m----> <a href='vscode-notebook-cell:/Users/thisisthanick/Library/Mobile%20Documents/com~apple~CloudDocs/Dev/CarDetection_WebApp/full_flow.ipynb#X20sZmlsZQ%3D%3D?line=0'>1</a>\u001b[0m veh\u001b[39m.\u001b[39;49mdetect(\u001b[39m\"\u001b[39;49m\u001b[39m./clips/use001.MP4\u001b[39;49m\u001b[39m\"\u001b[39;49m , do_function\u001b[39m=\u001b[39;49mcrop_do)\n",
      "File \u001b[0;32m~/Library/Mobile Documents/com~apple~CloudDocs/Dev/CarDetection_WebApp/lean_detect.py:45\u001b[0m, in \u001b[0;36mUseModel.detect\u001b[0;34m(self, source, do_function)\u001b[0m\n\u001b[1;32m     43\u001b[0m old_img_w \u001b[39m=\u001b[39m old_img_h \u001b[39m=\u001b[39m \u001b[39mself\u001b[39m\u001b[39m.\u001b[39mnorm_size\n\u001b[1;32m     44\u001b[0m old_img_b \u001b[39m=\u001b[39m \u001b[39m1\u001b[39m\n\u001b[0;32m---> 45\u001b[0m dataset \u001b[39m=\u001b[39m LoadImages(source, img_size\u001b[39m=\u001b[39;49m\u001b[39mself\u001b[39;49m\u001b[39m.\u001b[39;49mnorm_size, stride\u001b[39m=\u001b[39;49m\u001b[39mself\u001b[39;49m\u001b[39m.\u001b[39;49mstride)\n\u001b[1;32m     46\u001b[0m have: \u001b[39mbool\u001b[39m \u001b[39m=\u001b[39m \u001b[39mFalse\u001b[39;00m\n\u001b[1;32m     47\u001b[0m \u001b[39mfor\u001b[39;00m path, img, im0s, vid_cap \u001b[39min\u001b[39;00m dataset:\n",
      "File \u001b[0;32m~/Library/Mobile Documents/com~apple~CloudDocs/Dev/CarDetection_WebApp/utils/datasets.py:138\u001b[0m, in \u001b[0;36mLoadImages.__init__\u001b[0;34m(self, path, img_size, stride)\u001b[0m\n\u001b[1;32m    136\u001b[0m     files \u001b[39m=\u001b[39m [p]  \u001b[39m# files\u001b[39;00m\n\u001b[1;32m    137\u001b[0m \u001b[39melse\u001b[39;00m:\n\u001b[0;32m--> 138\u001b[0m     \u001b[39mraise\u001b[39;00m \u001b[39mException\u001b[39;00m(\u001b[39mf\u001b[39m\u001b[39m'\u001b[39m\u001b[39mERROR: \u001b[39m\u001b[39m{\u001b[39;00mp\u001b[39m}\u001b[39;00m\u001b[39m does not exist\u001b[39m\u001b[39m'\u001b[39m)\n\u001b[1;32m    140\u001b[0m images \u001b[39m=\u001b[39m [x \u001b[39mfor\u001b[39;00m x \u001b[39min\u001b[39;00m files \u001b[39mif\u001b[39;00m x\u001b[39m.\u001b[39msplit(\u001b[39m'\u001b[39m\u001b[39m.\u001b[39m\u001b[39m'\u001b[39m)[\u001b[39m-\u001b[39m\u001b[39m1\u001b[39m]\u001b[39m.\u001b[39mlower() \u001b[39min\u001b[39;00m img_formats]\n\u001b[1;32m    141\u001b[0m videos \u001b[39m=\u001b[39m [x \u001b[39mfor\u001b[39;00m x \u001b[39min\u001b[39;00m files \u001b[39mif\u001b[39;00m x\u001b[39m.\u001b[39msplit(\u001b[39m'\u001b[39m\u001b[39m.\u001b[39m\u001b[39m'\u001b[39m)[\u001b[39m-\u001b[39m\u001b[39m1\u001b[39m]\u001b[39m.\u001b[39mlower() \u001b[39min\u001b[39;00m vid_formats]\n",
      "\u001b[0;31mException\u001b[0m: ERROR: /Users/thisisthanick/Library/Mobile Documents/com~apple~CloudDocs/Dev/CarDetection_WebApp/clips/use001.MP4 does not exist"
     ]
    }
   ],
   "source": [
    "veh.detect(\"./clips/use001.MP4\" , do_function=crop_do)"
   ]
  },
  {
   "cell_type": "code",
   "execution_count": 2,
   "metadata": {},
   "outputs": [
    {
     "name": "stderr",
     "output_type": "stream",
     "text": [
      "YOLOR 🚀 2022-12-7 torch 1.12.1 CPU\n",
      "\n"
     ]
    },
    {
     "name": "stdout",
     "output_type": "stream",
     "text": [
      "Fusing layers... \n",
      "RepConv.fuse_repvgg_block\n",
      "RepConv.fuse_repvgg_block\n",
      "RepConv.fuse_repvgg_block\n"
     ]
    },
    {
     "name": "stderr",
     "output_type": "stream",
     "text": [
      "Model Summary: 306 layers, 36905341 parameters, 36905341 gradients\n"
     ]
    },
    {
     "name": "stdout",
     "output_type": "stream",
     "text": [
      " Convert model to Traced-model... \n"
     ]
    },
    {
     "ename": "KeyboardInterrupt",
     "evalue": "",
     "output_type": "error",
     "traceback": [
      "\u001b[0;31m---------------------------------------------------------------------------\u001b[0m",
      "\u001b[0;31mKeyboardInterrupt\u001b[0m                         Traceback (most recent call last)",
      "\u001b[1;32m/Users/thisisthanick/Library/Mobile Documents/com~apple~CloudDocs/Dev/CarDetection_WebApp/full_flow.ipynb Cell 17\u001b[0m in \u001b[0;36m<cell line: 1>\u001b[0;34m()\u001b[0m\n\u001b[0;32m----> <a href='vscode-notebook-cell:/Users/thisisthanick/Library/Mobile%20Documents/com~apple~CloudDocs/Dev/CarDetection_WebApp/full_flow.ipynb#X22sZmlsZQ%3D%3D?line=0'>1</a>\u001b[0m \u001b[39mimport\u001b[39;00m \u001b[39mmain_process_step\u001b[39;00m \u001b[39mas\u001b[39;00m \u001b[39mmps\u001b[39;00m\n",
      "File \u001b[0;32m~/Library/Mobile Documents/com~apple~CloudDocs/Dev/CarDetection_WebApp/main_process_step.py:22\u001b[0m, in \u001b[0;36m<module>\u001b[0;34m\u001b[0m\n\u001b[1;32m     19\u001b[0m \u001b[39mimport\u001b[39;00m \u001b[39mdatabase\u001b[39;00m \u001b[39mas\u001b[39;00m \u001b[39mdb\u001b[39;00m\n\u001b[1;32m     20\u001b[0m \u001b[39mfrom\u001b[39;00m \u001b[39mlean_detect\u001b[39;00m \u001b[39mimport\u001b[39;00m UseModel\n\u001b[0;32m---> 22\u001b[0m vehicle_detection_model \u001b[39m=\u001b[39m UseModel(\u001b[39m\"\u001b[39;49m\u001b[39myolov7.pt\u001b[39;49m\u001b[39m\"\u001b[39;49m, detect_class\u001b[39m=\u001b[39;49m[\u001b[39m2\u001b[39;49m, \u001b[39m5\u001b[39;49m, \u001b[39m7\u001b[39;49m], confident\u001b[39m=\u001b[39;49m\u001b[39m0.75\u001b[39;49m)\n\u001b[1;32m     24\u001b[0m \u001b[39m# Opening JSON file\u001b[39;00m\n\u001b[1;32m     25\u001b[0m \u001b[39mwith\u001b[39;00m \u001b[39mopen\u001b[39m(\u001b[39m'\u001b[39m\u001b[39mcar_meta.json\u001b[39m\u001b[39m'\u001b[39m) \u001b[39mas\u001b[39;00m json_file:\n",
      "File \u001b[0;32m~/Library/Mobile Documents/com~apple~CloudDocs/Dev/CarDetection_WebApp/lean_detect.py:31\u001b[0m, in \u001b[0;36mUseModel.__init__\u001b[0;34m(self, weights, device, confident, iou, detect_class, normalize_size, is_trace)\u001b[0m\n\u001b[1;32m     28\u001b[0m \u001b[39mself\u001b[39m\u001b[39m.\u001b[39mnorm_size\u001b[39m=\u001b[39m check_img_size(\u001b[39mself\u001b[39m\u001b[39m.\u001b[39mnorm_size, s\u001b[39m=\u001b[39m\u001b[39mself\u001b[39m\u001b[39m.\u001b[39mstride)  \u001b[39m# check img_size\u001b[39;00m\n\u001b[1;32m     30\u001b[0m \u001b[39mif\u001b[39;00m is_trace:\n\u001b[0;32m---> 31\u001b[0m     model \u001b[39m=\u001b[39m TracedModel(model, \u001b[39mself\u001b[39;49m\u001b[39m.\u001b[39;49mdevice, \u001b[39mself\u001b[39;49m\u001b[39m.\u001b[39;49mnorm_size)\n\u001b[1;32m     33\u001b[0m \u001b[39mif\u001b[39;00m \u001b[39mself\u001b[39m\u001b[39m.\u001b[39mhalf:\n\u001b[1;32m     34\u001b[0m     model\u001b[39m.\u001b[39mhalf()  \u001b[39m# to FP16\u001b[39;00m\n",
      "File \u001b[0;32m~/Library/Mobile Documents/com~apple~CloudDocs/Dev/CarDetection_WebApp/utils/torch_utils.py:362\u001b[0m, in \u001b[0;36mTracedModel.__init__\u001b[0;34m(self, model, device, img_size)\u001b[0m\n\u001b[1;32m    358\u001b[0m \u001b[39mself\u001b[39m\u001b[39m.\u001b[39mmodel\u001b[39m.\u001b[39mtraced \u001b[39m=\u001b[39m \u001b[39mTrue\u001b[39;00m\n\u001b[1;32m    360\u001b[0m rand_example \u001b[39m=\u001b[39m torch\u001b[39m.\u001b[39mrand(\u001b[39m1\u001b[39m, \u001b[39m3\u001b[39m, img_size, img_size)\n\u001b[0;32m--> 362\u001b[0m traced_script_module \u001b[39m=\u001b[39m torch\u001b[39m.\u001b[39;49mjit\u001b[39m.\u001b[39;49mtrace(\u001b[39mself\u001b[39;49m\u001b[39m.\u001b[39;49mmodel, rand_example, strict\u001b[39m=\u001b[39;49m\u001b[39mFalse\u001b[39;49;00m)\n\u001b[1;32m    363\u001b[0m \u001b[39m#traced_script_module = torch.jit.script(self.model)\u001b[39;00m\n\u001b[1;32m    364\u001b[0m traced_script_module\u001b[39m.\u001b[39msave(\u001b[39m\"\u001b[39m\u001b[39mtraced_model.pt\u001b[39m\u001b[39m\"\u001b[39m)\n",
      "File \u001b[0;32m/opt/anaconda3/lib/python3.9/site-packages/torch/jit/_trace.py:750\u001b[0m, in \u001b[0;36mtrace\u001b[0;34m(func, example_inputs, optimize, check_trace, check_inputs, check_tolerance, strict, _force_outplace, _module_class, _compilation_unit)\u001b[0m\n\u001b[1;32m    747\u001b[0m     \u001b[39mreturn\u001b[39;00m func\n\u001b[1;32m    749\u001b[0m \u001b[39mif\u001b[39;00m \u001b[39misinstance\u001b[39m(func, torch\u001b[39m.\u001b[39mnn\u001b[39m.\u001b[39mModule):\n\u001b[0;32m--> 750\u001b[0m     \u001b[39mreturn\u001b[39;00m trace_module(\n\u001b[1;32m    751\u001b[0m         func,\n\u001b[1;32m    752\u001b[0m         {\u001b[39m\"\u001b[39;49m\u001b[39mforward\u001b[39;49m\u001b[39m\"\u001b[39;49m: example_inputs},\n\u001b[1;32m    753\u001b[0m         \u001b[39mNone\u001b[39;49;00m,\n\u001b[1;32m    754\u001b[0m         check_trace,\n\u001b[1;32m    755\u001b[0m         wrap_check_inputs(check_inputs),\n\u001b[1;32m    756\u001b[0m         check_tolerance,\n\u001b[1;32m    757\u001b[0m         strict,\n\u001b[1;32m    758\u001b[0m         _force_outplace,\n\u001b[1;32m    759\u001b[0m         _module_class,\n\u001b[1;32m    760\u001b[0m     )\n\u001b[1;32m    762\u001b[0m \u001b[39mif\u001b[39;00m (\n\u001b[1;32m    763\u001b[0m     \u001b[39mhasattr\u001b[39m(func, \u001b[39m\"\u001b[39m\u001b[39m__self__\u001b[39m\u001b[39m\"\u001b[39m)\n\u001b[1;32m    764\u001b[0m     \u001b[39mand\u001b[39;00m \u001b[39misinstance\u001b[39m(func\u001b[39m.\u001b[39m\u001b[39m__self__\u001b[39m, torch\u001b[39m.\u001b[39mnn\u001b[39m.\u001b[39mModule)\n\u001b[1;32m    765\u001b[0m     \u001b[39mand\u001b[39;00m func\u001b[39m.\u001b[39m\u001b[39m__name__\u001b[39m \u001b[39m==\u001b[39m \u001b[39m\"\u001b[39m\u001b[39mforward\u001b[39m\u001b[39m\"\u001b[39m\n\u001b[1;32m    766\u001b[0m ):\n\u001b[1;32m    767\u001b[0m     \u001b[39mreturn\u001b[39;00m trace_module(\n\u001b[1;32m    768\u001b[0m         func\u001b[39m.\u001b[39m\u001b[39m__self__\u001b[39m,\n\u001b[1;32m    769\u001b[0m         {\u001b[39m\"\u001b[39m\u001b[39mforward\u001b[39m\u001b[39m\"\u001b[39m: example_inputs},\n\u001b[0;32m   (...)\u001b[0m\n\u001b[1;32m    776\u001b[0m         _module_class,\n\u001b[1;32m    777\u001b[0m     )\n",
      "File \u001b[0;32m/opt/anaconda3/lib/python3.9/site-packages/torch/jit/_trace.py:992\u001b[0m, in \u001b[0;36mtrace_module\u001b[0;34m(mod, inputs, optimize, check_trace, check_inputs, check_tolerance, strict, _force_outplace, _module_class, _compilation_unit)\u001b[0m\n\u001b[1;32m    981\u001b[0m                 _check_trace(\n\u001b[1;32m    982\u001b[0m                     check_inputs,\n\u001b[1;32m    983\u001b[0m                     func,\n\u001b[0;32m   (...)\u001b[0m\n\u001b[1;32m    989\u001b[0m                     _module_class,\n\u001b[1;32m    990\u001b[0m                 )\n\u001b[1;32m    991\u001b[0m             \u001b[39melse\u001b[39;00m:\n\u001b[0;32m--> 992\u001b[0m                 _check_trace(\n\u001b[1;32m    993\u001b[0m                     [inputs],\n\u001b[1;32m    994\u001b[0m                     func,\n\u001b[1;32m    995\u001b[0m                     check_trace_method,\n\u001b[1;32m    996\u001b[0m                     check_tolerance,\n\u001b[1;32m    997\u001b[0m                     strict,\n\u001b[1;32m    998\u001b[0m                     _force_outplace,\n\u001b[1;32m    999\u001b[0m                     \u001b[39mTrue\u001b[39;49;00m,\n\u001b[1;32m   1000\u001b[0m                     _module_class,\n\u001b[1;32m   1001\u001b[0m                 )\n\u001b[1;32m   1002\u001b[0m \u001b[39mfinally\u001b[39;00m:\n\u001b[1;32m   1003\u001b[0m     torch\u001b[39m.\u001b[39mjit\u001b[39m.\u001b[39m_trace\u001b[39m.\u001b[39m_trace_module_map \u001b[39m=\u001b[39m old_module_map\n",
      "File \u001b[0;32m/opt/anaconda3/lib/python3.9/site-packages/torch/autograd/grad_mode.py:27\u001b[0m, in \u001b[0;36m_DecoratorContextManager.__call__.<locals>.decorate_context\u001b[0;34m(*args, **kwargs)\u001b[0m\n\u001b[1;32m     24\u001b[0m \u001b[39m@functools\u001b[39m\u001b[39m.\u001b[39mwraps(func)\n\u001b[1;32m     25\u001b[0m \u001b[39mdef\u001b[39;00m \u001b[39mdecorate_context\u001b[39m(\u001b[39m*\u001b[39margs, \u001b[39m*\u001b[39m\u001b[39m*\u001b[39mkwargs):\n\u001b[1;32m     26\u001b[0m     \u001b[39mwith\u001b[39;00m \u001b[39mself\u001b[39m\u001b[39m.\u001b[39mclone():\n\u001b[0;32m---> 27\u001b[0m         \u001b[39mreturn\u001b[39;00m func(\u001b[39m*\u001b[39;49margs, \u001b[39m*\u001b[39;49m\u001b[39m*\u001b[39;49mkwargs)\n",
      "File \u001b[0;32m/opt/anaconda3/lib/python3.9/site-packages/torch/jit/_trace.py:528\u001b[0m, in \u001b[0;36m_check_trace\u001b[0;34m(check_inputs, func, traced_func, check_tolerance, strict, force_outplace, is_trace_module, _module_class)\u001b[0m\n\u001b[1;32m    526\u001b[0m fn_outs \u001b[39m=\u001b[39m run_mod_and_filter_tensor_outputs(func, inputs, \u001b[39m\"\u001b[39m\u001b[39mPython function\u001b[39m\u001b[39m\"\u001b[39m)\n\u001b[1;32m    527\u001b[0m \u001b[39mif\u001b[39;00m compare_outputs(traced_outs, fn_outs, \u001b[39m\"\u001b[39m\u001b[39mPython function\u001b[39m\u001b[39m\"\u001b[39m):\n\u001b[0;32m--> 528\u001b[0m     check_outs \u001b[39m=\u001b[39m run_mod_and_filter_tensor_outputs(\n\u001b[1;32m    529\u001b[0m         check_mod_func, inputs, \u001b[39m\"\u001b[39;49m\u001b[39mrepeated trace\u001b[39;49m\u001b[39m\"\u001b[39;49m\n\u001b[1;32m    530\u001b[0m     )\n\u001b[1;32m    531\u001b[0m     compare_outputs(traced_outs, check_outs, \u001b[39m\"\u001b[39m\u001b[39mrepeated trace\u001b[39m\u001b[39m\"\u001b[39m)\n\u001b[1;32m    533\u001b[0m diag_info \u001b[39m=\u001b[39m graph_diagnostic_info()\n",
      "File \u001b[0;32m/opt/anaconda3/lib/python3.9/site-packages/torch/jit/_trace.py:443\u001b[0m, in \u001b[0;36m_check_trace.<locals>.run_mod_and_filter_tensor_outputs\u001b[0;34m(mod, inputs, running_what)\u001b[0m\n\u001b[1;32m    441\u001b[0m \u001b[39mdef\u001b[39;00m \u001b[39mrun_mod_and_filter_tensor_outputs\u001b[39m(mod, inputs, running_what):\n\u001b[1;32m    442\u001b[0m     \u001b[39mtry\u001b[39;00m:\n\u001b[0;32m--> 443\u001b[0m         outs \u001b[39m=\u001b[39m wrap_retval(mod(\u001b[39m*\u001b[39;49m_clone_inputs(inputs)))\n\u001b[1;32m    444\u001b[0m         outs \u001b[39m=\u001b[39m [out \u001b[39mfor\u001b[39;00m out \u001b[39min\u001b[39;00m outs \u001b[39mif\u001b[39;00m \u001b[39misinstance\u001b[39m(out, torch\u001b[39m.\u001b[39mTensor)]\n\u001b[1;32m    445\u001b[0m         \u001b[39mreturn\u001b[39;00m outs\n",
      "\u001b[0;31mKeyboardInterrupt\u001b[0m: "
     ]
    }
   ],
   "source": [
    "import main_process_step as mps"
   ]
  }
 ],
 "metadata": {
  "kernelspec": {
   "display_name": "base",
   "language": "python",
   "name": "python3"
  },
  "language_info": {
   "codemirror_mode": {
    "name": "ipython",
    "version": 3
   },
   "file_extension": ".py",
   "mimetype": "text/x-python",
   "name": "python",
   "nbconvert_exporter": "python",
   "pygments_lexer": "ipython3",
   "version": "3.9.12"
  },
  "orig_nbformat": 4,
  "vscode": {
   "interpreter": {
    "hash": "40d3a090f54c6569ab1632332b64b2c03c39dcf918b08424e98f38b5ae0af88f"
   }
  }
 },
 "nbformat": 4,
 "nbformat_minor": 2
}
