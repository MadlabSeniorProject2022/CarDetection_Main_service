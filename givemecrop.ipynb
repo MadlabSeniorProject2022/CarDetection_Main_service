{
 "cells": [
  {
   "cell_type": "code",
   "execution_count": 2,
   "metadata": {},
   "outputs": [],
   "source": [
    "import time\n",
    "from lean_detect import UseModel\n",
    "import cv2\n",
    "import os\n",
    "from pathlib import Path\n",
    "\n",
    "def detection_tasks (coor, img, conf, cls):\n",
    "    current_time = int(round(time.time() * 1000))\n",
    "    print(current_time)\n",
    "    if not os.path.exists(\"./runs/\"):\n",
    "        os.makedirs(\"./runs/\")\n",
    "    Path(\"./runs/crop/\").mkdir(parents=True, exist_ok=True)\n",
    "    crop_img = img[ int(coor[1]) : int(coor[3]), int(coor[0]): int(coor[2])]\n",
    "    cv2.imwrite(f\"./runs/crop/{current_time}-crop.jpg\", crop_img)\n",
    "    "
   ]
  },
  {
   "cell_type": "code",
   "execution_count": 3,
   "metadata": {},
   "outputs": [
    {
     "name": "stderr",
     "output_type": "stream",
     "text": [
      "YOLOR  c13f249 torch 1.9.0+cu111 CUDA:0 (NVIDIA GeForce RTX 3060 Ti, 8191.375MB)\n",
      "\n"
     ]
    },
    {
     "name": "stdout",
     "output_type": "stream",
     "text": [
      "Fusing layers... \n",
      "RepConv.fuse_repvgg_block\n",
      "RepConv.fuse_repvgg_block\n",
      "RepConv.fuse_repvgg_block\n"
     ]
    },
    {
     "name": "stderr",
     "output_type": "stream",
     "text": [
      "c:\\Users\\PPUNN\\anaconda3\\lib\\site-packages\\torch\\nn\\functional.py:718: UserWarning: Named tensors and all their associated APIs are an experimental feature and subject to change. Please do not use them for anything important until they are released as stable. (Triggered internally at  ..\\c10/core/TensorImpl.h:1156.)\n",
      "  return torch.max_pool2d(input, kernel_size, stride, padding, dilation, ceil_mode)\n",
      "Model Summary: 306 layers, 36905341 parameters, 36905341 gradients, 104.5 GFLOPS\n",
      "c:\\Users\\PPUNN\\anaconda3\\lib\\site-packages\\torch\\nn\\modules\\module.py:561: UserWarning: The .grad attribute of a Tensor that is not a leaf Tensor is being accessed. Its .grad attribute won't be populated during autograd.backward(). If you indeed want the gradient for a non-leaf Tensor, use .retain_grad() on the non-leaf Tensor. If you access the non-leaf Tensor by mistake, make sure you access the leaf Tensor instead. See github.com/pytorch/pytorch/pull/30531 for more information.\n",
      "  if param.grad is not None:\n"
     ]
    },
    {
     "name": "stdout",
     "output_type": "stream",
     "text": [
      " Convert model to Traced-model... \n",
      " traced_script_module saved! \n",
      " model is traced! \n",
      "\n"
     ]
    }
   ],
   "source": [
    "vehicle_detect_model = UseModel(\"yolov7.pt\", detect_class=[2, 5, 7], confident=0.75)"
   ]
  },
  {
   "cell_type": "code",
   "execution_count": 4,
   "metadata": {},
   "outputs": [],
   "source": [
    "def detect_flow (source):\n",
    "    vehicle_detect_model.detect(source, do_function=detection_tasks)"
   ]
  },
  {
   "cell_type": "code",
   "execution_count": 5,
   "metadata": {},
   "outputs": [
    {
     "name": "stdout",
     "output_type": "stream",
     "text": [
      "1677329396298\n",
      "1677329420211\n",
      "1677329430411\n",
      "1677329457240\n",
      "1677329496251\n",
      "1677329510714\n",
      "1677329521845\n",
      "1677329588740\n",
      "1677329609236\n",
      "1677329618792\n",
      "1677329682433\n",
      "1677329710459\n",
      "1677329739619\n",
      "1677329754804\n",
      "1677329768816\n",
      "1677329778705\n",
      "1677329782706\n",
      "1677329784547\n",
      "1677329784651\n",
      "1677329833501\n",
      "1677329900810\n",
      "1677329932900\n",
      "1677329975254\n",
      "1677329993150\n",
      "1677330002048\n",
      "1677330036034\n",
      "1677330053601\n",
      "1677330077432\n",
      "1677330086730\n",
      "1677330095989\n",
      "1677330141145\n",
      "1677330156853\n",
      "1677330169908\n",
      "1677330191494\n",
      "1677330213541\n",
      "1677330258727\n",
      "1677330330095\n",
      "1677330345844\n",
      "1677330345935\n",
      "1677330346079\n",
      "1677330348492\n",
      "1677330372728\n"
     ]
    }
   ],
   "source": [
    "detect_flow(\"./clips/use001.MP4\")"
   ]
  },
  {
   "cell_type": "code",
   "execution_count": 6,
   "metadata": {},
   "outputs": [
    {
     "name": "stdout",
     "output_type": "stream",
     "text": [
      "1677330389495\n",
      "1677330443407\n",
      "1677330471106\n",
      "1677330494331\n",
      "1677330512497\n",
      "1677330512729\n",
      "1677330568174\n",
      "1677330641379\n",
      "1677330691508\n",
      "1677330738537\n",
      "1677330770378\n",
      "1677330834908\n",
      "1677330847875\n",
      "1677330867975\n",
      "1677330902507\n",
      "1677330909815\n",
      "1677330934110\n",
      "1677330947705\n",
      "1677330973248\n",
      "1677331034841\n",
      "1677331048645\n",
      "1677331054128\n",
      "1677331054268\n",
      "1677331054829\n",
      "1677331054886\n",
      "1677331055056\n",
      "1677331055141\n",
      "1677331055238\n",
      "1677331055509\n",
      "1677331055788\n",
      "1677331055907\n",
      "1677331056000\n",
      "1677331056060\n",
      "1677331056951\n",
      "1677331057971\n",
      "1677331088486\n",
      "1677331123297\n",
      "1677331156602\n",
      "1677331179553\n",
      "1677331239972\n",
      "1677331257015\n",
      "1677331353698\n",
      "1677331353756\n"
     ]
    }
   ],
   "source": [
    "detect_flow(\"./clips/use002.MP4\")"
   ]
  },
  {
   "cell_type": "code",
   "execution_count": 7,
   "metadata": {},
   "outputs": [
    {
     "name": "stdout",
     "output_type": "stream",
     "text": [
      "1677331372636\n",
      "1677331376811\n",
      "1677331412989\n",
      "1677331442712\n",
      "1677331452970\n",
      "1677331459600\n",
      "1677331459779\n",
      "1677331459869\n",
      "1677331494522\n",
      "1677331547256\n",
      "1677331607792\n",
      "1677331660918\n",
      "1677331717590\n",
      "1677331743775\n",
      "1677331765683\n",
      "1677331772309\n",
      "1677331783311\n",
      "1677331783543\n",
      "1677331783731\n",
      "1677331783787\n",
      "1677331783952\n",
      "1677331784127\n",
      "1677331784186\n",
      "1677331784293\n",
      "1677331784399\n",
      "1677331784777\n",
      "1677331858484\n",
      "1677331869931\n",
      "1677331961481\n",
      "1677331969556\n",
      "1677331969618\n",
      "1677331984690\n",
      "1677332022969\n",
      "1677332029610\n",
      "1677332029809\n",
      "1677332033205\n",
      "1677332033292\n",
      "1677332033380\n",
      "1677332123136\n",
      "1677332162344\n",
      "1677332193235\n",
      "1677332193509\n",
      "1677332193960\n",
      "1677332194490\n",
      "1677332234261\n",
      "1677332236156\n",
      "1677332281770\n",
      "1677332299713\n",
      "1677332300264\n",
      "1677332300323\n"
     ]
    }
   ],
   "source": [
    "detect_flow(\"./clips/use003.MP4\")"
   ]
  },
  {
   "cell_type": "code",
   "execution_count": 8,
   "metadata": {},
   "outputs": [
    {
     "name": "stdout",
     "output_type": "stream",
     "text": [
      "1677332361492\n",
      "1677332362081\n",
      "1677332363163\n",
      "1677332363922\n",
      "1677332365711\n",
      "1677332366708\n",
      "1677332367798\n",
      "1677332368270\n",
      "1677332368529\n",
      "1677332368823\n",
      "1677332369012\n",
      "1677332369152\n",
      "1677332383309\n",
      "1677332385121\n",
      "1677332400609\n",
      "1677332402223\n",
      "1677332438130\n",
      "1677332526047\n",
      "1677332598378\n",
      "1677332609335\n",
      "1677332647683\n",
      "1677332665352\n",
      "1677332709627\n",
      "1677332741499\n",
      "1677332741877\n",
      "1677332741966\n",
      "1677332742892\n",
      "1677332743072\n",
      "1677332743570\n",
      "1677332743714\n",
      "1677332743770\n",
      "1677332747437\n",
      "1677332764259\n",
      "1677332815859\n",
      "1677332841101\n",
      "1677332934707\n",
      "1677332962109\n",
      "1677332979653\n",
      "1677332979795\n",
      "1677332980754\n",
      "1677333050685\n",
      "1677333104980\n",
      "1677333105804\n",
      "1677333106323\n",
      "1677333171815\n",
      "1677333209396\n",
      "1677333259527\n",
      "1677333280001\n",
      "1677333311451\n",
      "1677333313401\n",
      "1677333313897\n",
      "1677333318850\n"
     ]
    }
   ],
   "source": [
    "detect_flow(\"./clips/use004.MP4\")"
   ]
  },
  {
   "cell_type": "code",
   "execution_count": 9,
   "metadata": {},
   "outputs": [
    {
     "name": "stdout",
     "output_type": "stream",
     "text": [
      "1677333340775\n",
      "1677333341192\n",
      "1677333341255\n",
      "1677333341364\n",
      "1677333405661\n",
      "1677333428735\n",
      "1677333472532\n",
      "1677333495931\n",
      "1677333513723\n",
      "1677333526816\n",
      "1677333554496\n",
      "1677333633584\n",
      "1677333640642\n",
      "1677333641014\n",
      "1677333641488\n",
      "1677333641573\n",
      "1677333641661\n",
      "1677333641721\n",
      "1677333650354\n",
      "1677333681849\n",
      "1677333698706\n",
      "1677333718548\n",
      "1677333795840\n",
      "1677333804302\n",
      "1677333954158\n",
      "1677333981129\n",
      "1677334000868\n",
      "1677334010112\n",
      "1677334037003\n",
      "1677334037390\n",
      "1677334038047\n",
      "1677334038239\n",
      "1677334038343\n",
      "1677334039166\n",
      "1677334045778\n",
      "1677334046318\n",
      "1677334046529\n",
      "1677334047036\n",
      "1677334047613\n",
      "1677334047721\n",
      "1677334047775\n",
      "1677334047838\n",
      "1677334048038\n",
      "1677334048687\n",
      "1677334048816\n",
      "1677334048877\n",
      "1677334048991\n",
      "1677334049416\n",
      "1677334049807\n",
      "1677334049865\n",
      "1677334049926\n",
      "1677334050044\n",
      "1677334055464\n",
      "1677334058910\n",
      "1677334060118\n",
      "1677334073814\n",
      "1677334154550\n",
      "1677334226542\n",
      "1677334251024\n",
      "1677334251348\n",
      "1677334251442\n",
      "1677334251518\n",
      "1677334252788\n",
      "1677334254548\n",
      "1677334255027\n",
      "1677334255175\n",
      "1677334255324\n",
      "1677334255398\n",
      "1677334255529\n",
      "1677334256441\n",
      "1677334296815\n",
      "1677334296998\n",
      "1677334297330\n",
      "1677334297671\n",
      "1677334297732\n",
      "1677334297851\n",
      "1677334297949\n",
      "1677334298167\n",
      "1677334298384\n",
      "1677334298930\n",
      "1677334299384\n"
     ]
    }
   ],
   "source": [
    "detect_flow(\"./clips/use005.MP4\")"
   ]
  },
  {
   "cell_type": "code",
   "execution_count": 10,
   "metadata": {},
   "outputs": [
    {
     "name": "stdout",
     "output_type": "stream",
     "text": [
      "1677334319543\n",
      "1677334351683\n",
      "1677334351826\n",
      "1677334352162\n",
      "1677334355234\n",
      "1677334355302\n",
      "1677334355752\n",
      "1677334361526\n",
      "1677334395793\n",
      "1677334403761\n",
      "1677334404208\n",
      "1677334404580\n",
      "1677334405562\n",
      "1677334405678\n",
      "1677334405858\n",
      "1677334420343\n",
      "1677334511696\n",
      "1677334514460\n",
      "1677334514553\n",
      "1677334514834\n",
      "1677334515349\n",
      "1677334590018\n",
      "1677334608689\n",
      "1677334608752\n",
      "1677334608954\n",
      "1677334609141\n",
      "1677334609229\n",
      "1677334609375\n",
      "1677334609647\n",
      "1677334609831\n",
      "1677334610046\n",
      "1677334610183\n",
      "1677334613673\n",
      "1677334622865\n",
      "1677334690607\n",
      "1677334715303\n",
      "1677334722329\n",
      "1677334753924\n",
      "1677334841509\n",
      "1677334914017\n",
      "1677334928367\n",
      "1677334931938\n",
      "1677334932037\n",
      "1677334932543\n",
      "1677334955613\n",
      "1677335016384\n",
      "1677335036593\n",
      "1677335050108\n",
      "1677335096376\n",
      "1677335127653\n",
      "1677335270060\n"
     ]
    }
   ],
   "source": [
    "detect_flow(\"./clips/use006.MP4\")"
   ]
  },
  {
   "cell_type": "code",
   "execution_count": 11,
   "metadata": {},
   "outputs": [
    {
     "name": "stdout",
     "output_type": "stream",
     "text": [
      "1677335348445\n",
      "1677335365398\n",
      "1677335402191\n",
      "1677335439929\n",
      "1677335441261\n",
      "1677335449866\n"
     ]
    }
   ],
   "source": [
    "detect_flow(\"./clips/use007.MP4\")"
   ]
  },
  {
   "cell_type": "code",
   "execution_count": 12,
   "metadata": {},
   "outputs": [
    {
     "name": "stdout",
     "output_type": "stream",
     "text": [
      "1677335455367\n",
      "1677335481851\n",
      "1677335513254\n"
     ]
    },
    {
     "ename": "KeyboardInterrupt",
     "evalue": "",
     "output_type": "error",
     "traceback": [
      "\u001b[1;31m---------------------------------------------------------------------------\u001b[0m",
      "\u001b[1;31mKeyboardInterrupt\u001b[0m                         Traceback (most recent call last)",
      "\u001b[1;32m~\\AppData\\Local\\Temp/ipykernel_8788/781450842.py\u001b[0m in \u001b[0;36m<module>\u001b[1;34m\u001b[0m\n\u001b[1;32m----> 1\u001b[1;33m \u001b[0mdetect_flow\u001b[0m\u001b[1;33m(\u001b[0m\u001b[1;34m\"./clips/use008.MP4\"\u001b[0m\u001b[1;33m)\u001b[0m\u001b[1;33m\u001b[0m\u001b[1;33m\u001b[0m\u001b[0m\n\u001b[0m",
      "\u001b[1;32m~\\AppData\\Local\\Temp/ipykernel_8788/4034406411.py\u001b[0m in \u001b[0;36mdetect_flow\u001b[1;34m(source)\u001b[0m\n\u001b[0;32m      1\u001b[0m \u001b[1;32mdef\u001b[0m \u001b[0mdetect_flow\u001b[0m \u001b[1;33m(\u001b[0m\u001b[0msource\u001b[0m\u001b[1;33m)\u001b[0m\u001b[1;33m:\u001b[0m\u001b[1;33m\u001b[0m\u001b[1;33m\u001b[0m\u001b[0m\n\u001b[1;32m----> 2\u001b[1;33m     \u001b[0mvehicle_detect_model\u001b[0m\u001b[1;33m.\u001b[0m\u001b[0mdetect\u001b[0m\u001b[1;33m(\u001b[0m\u001b[0msource\u001b[0m\u001b[1;33m,\u001b[0m \u001b[0mdo_function\u001b[0m\u001b[1;33m=\u001b[0m\u001b[0mdetection_tasks\u001b[0m\u001b[1;33m)\u001b[0m\u001b[1;33m\u001b[0m\u001b[1;33m\u001b[0m\u001b[0m\n\u001b[0m",
      "\u001b[1;32mc:\\Users\\PPUNN\\Documents\\FinalProj\\CarDetection_WebApp\\lean_detect.py\u001b[0m in \u001b[0;36mdetect\u001b[1;34m(self, source, do_function)\u001b[0m\n\u001b[0;32m     61\u001b[0m \u001b[1;33m\u001b[0m\u001b[0m\n\u001b[0;32m     62\u001b[0m             \u001b[0mpred\u001b[0m \u001b[1;33m=\u001b[0m \u001b[0mself\u001b[0m\u001b[1;33m.\u001b[0m\u001b[0mmodel\u001b[0m\u001b[1;33m(\u001b[0m\u001b[0mimg\u001b[0m\u001b[1;33m,\u001b[0m \u001b[0maugment\u001b[0m\u001b[1;33m=\u001b[0m\u001b[1;32mFalse\u001b[0m\u001b[1;33m)\u001b[0m\u001b[1;33m[\u001b[0m\u001b[1;36m0\u001b[0m\u001b[1;33m]\u001b[0m\u001b[1;33m\u001b[0m\u001b[1;33m\u001b[0m\u001b[0m\n\u001b[1;32m---> 63\u001b[1;33m             \u001b[0mpred\u001b[0m \u001b[1;33m=\u001b[0m \u001b[0mnon_max_suppression\u001b[0m\u001b[1;33m(\u001b[0m\u001b[0mpred\u001b[0m\u001b[1;33m,\u001b[0m \u001b[0mself\u001b[0m\u001b[1;33m.\u001b[0m\u001b[0mconfident\u001b[0m\u001b[1;33m,\u001b[0m \u001b[0mself\u001b[0m\u001b[1;33m.\u001b[0m\u001b[0miou\u001b[0m\u001b[1;33m,\u001b[0m \u001b[0mclasses\u001b[0m\u001b[1;33m=\u001b[0m\u001b[0mself\u001b[0m\u001b[1;33m.\u001b[0m\u001b[0mdetect_class\u001b[0m\u001b[1;33m,\u001b[0m \u001b[0magnostic\u001b[0m\u001b[1;33m=\u001b[0m\u001b[1;32mFalse\u001b[0m\u001b[1;33m)\u001b[0m\u001b[1;33m\u001b[0m\u001b[1;33m\u001b[0m\u001b[0m\n\u001b[0m\u001b[0;32m     64\u001b[0m \u001b[1;33m\u001b[0m\u001b[0m\n\u001b[0;32m     65\u001b[0m             \u001b[1;31m# Do function that include\u001b[0m\u001b[1;33m\u001b[0m\u001b[1;33m\u001b[0m\u001b[0m\n",
      "\u001b[1;32mc:\\Users\\PPUNN\\Documents\\FinalProj\\CarDetection_WebApp\\utils\\general.py\u001b[0m in \u001b[0;36mnon_max_suppression\u001b[1;34m(prediction, conf_thres, iou_thres, classes, agnostic, multi_label, labels)\u001b[0m\n\u001b[0;32m    631\u001b[0m         \u001b[1;31m# Apply constraints\u001b[0m\u001b[1;33m\u001b[0m\u001b[1;33m\u001b[0m\u001b[0m\n\u001b[0;32m    632\u001b[0m         \u001b[1;31m# x[((x[..., 2:4] < min_wh) | (x[..., 2:4] > max_wh)).any(1), 4] = 0  # width-height\u001b[0m\u001b[1;33m\u001b[0m\u001b[1;33m\u001b[0m\u001b[0m\n\u001b[1;32m--> 633\u001b[1;33m         \u001b[0mx\u001b[0m \u001b[1;33m=\u001b[0m \u001b[0mx\u001b[0m\u001b[1;33m[\u001b[0m\u001b[0mxc\u001b[0m\u001b[1;33m[\u001b[0m\u001b[0mxi\u001b[0m\u001b[1;33m]\u001b[0m\u001b[1;33m]\u001b[0m  \u001b[1;31m# confidence\u001b[0m\u001b[1;33m\u001b[0m\u001b[1;33m\u001b[0m\u001b[0m\n\u001b[0m\u001b[0;32m    634\u001b[0m \u001b[1;33m\u001b[0m\u001b[0m\n\u001b[0;32m    635\u001b[0m         \u001b[1;31m# Cat apriori labels if autolabelling\u001b[0m\u001b[1;33m\u001b[0m\u001b[1;33m\u001b[0m\u001b[0m\n",
      "\u001b[1;31mKeyboardInterrupt\u001b[0m: "
     ]
    }
   ],
   "source": [
    "detect_flow(\"./clips/use008.MP4\")"
   ]
  },
  {
   "cell_type": "code",
   "execution_count": null,
   "metadata": {},
   "outputs": [],
   "source": [
    "detect_flow(\"./clips/use009.MP4\")"
   ]
  },
  {
   "cell_type": "code",
   "execution_count": 6,
   "metadata": {},
   "outputs": [
    {
     "data": {
      "text/plain": [
       "{'msg': 'success',\n",
       " 'plate_num': '7กล838',\n",
       " 'plate_url': 'https://storage.googleapis.com/images-bucks/16774001011207-plate.jpg?Expires=2023000023&GoogleAccessId=image-buck-sa%40carrgclassification.iam.gserviceaccount.com&Signature=H%2FXeoZAsC8jxm2W3RNw5GVPR1%2Fc8RuBFXfOWkRnyjEDiZTyObiQYe1rJ42uvbn5w7pKkE5ZaL2QV6rhulPHInf3I8vB%2BWIHwNfrMpqkWTbA3oMt04wO%2F6ewqiHsvpsYZG2luuFDN9%2FJn4G3cZ%2BUblFG0AEDIu%2BKMN0zy1TlQylI8GTB%2F1KLK8Up5kuSAubFiV75xSg3ykWKY9MmL3LPP4MSHEKaVqQS5T3gO2toGihRjoUZ5bv%2B3IafbzqkH3HywcpO6fnPG1xZNMRpMqggR1k3YCbnPpoDwvAvBVNKDBvuG29Mt2lG%2BKQ1rSgnuAi0x%2B1UU60lLQTpedQJkmc8v9Q%3D%3D'}"
      ]
     },
     "execution_count": 6,
     "metadata": {},
     "output_type": "execute_result"
    }
   ],
   "source": [
    "import requests\n",
    "import cv2\n",
    "\n",
    "\n",
    "img = cv2.imread(\"runs/crop/1677329396298-crop.jpg\") \n",
    "image_data = cv2.imencode('.jpg', img)[1].tobytes()\n",
    "\n",
    "requests.post(\"https://8fcb-35-193-242-237.ngrok.io/predict\", files={\"image\": image_data}).json()"
   ]
  }
 ],
 "metadata": {
  "kernelspec": {
   "display_name": "Python 3",
   "language": "python",
   "name": "python3"
  },
  "language_info": {
   "codemirror_mode": {
    "name": "ipython",
    "version": 3
   },
   "file_extension": ".py",
   "mimetype": "text/x-python",
   "name": "python",
   "nbconvert_exporter": "python",
   "pygments_lexer": "ipython3",
   "version": "3.9.7"
  },
  "orig_nbformat": 4,
  "vscode": {
   "interpreter": {
    "hash": "b67c5afb4a213e8fbdf683749ef35faca1ebc3e9a9bee2db524cf59386cbbd09"
   }
  }
 },
 "nbformat": 4,
 "nbformat_minor": 2
}
