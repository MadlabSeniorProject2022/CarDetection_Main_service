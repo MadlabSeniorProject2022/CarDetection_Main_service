{
 "cells": [
  {
   "cell_type": "code",
   "execution_count": 2,
   "metadata": {},
   "outputs": [],
   "source": [
    "import cv2\n",
    "import os\n",
    "import time"
   ]
  },
  {
   "cell_type": "code",
   "execution_count": 4,
   "metadata": {},
   "outputs": [],
   "source": [
    "for file in os.listdir(\"./runs/train_fd/\"):\n",
    "    img = cv2.imread(f\"./runs/train_fd/{file}\")\n",
    "    edges = cv2.Canny(img,100,150)\n",
    "    cv2.imwrite(f\"./test/{file}\", edges)"
   ]
  }
 ],
 "metadata": {
  "kernelspec": {
   "display_name": "Python 3",
   "language": "python",
   "name": "python3"
  },
  "language_info": {
   "codemirror_mode": {
    "name": "ipython",
    "version": 3
   },
   "file_extension": ".py",
   "mimetype": "text/x-python",
   "name": "python",
   "nbconvert_exporter": "python",
   "pygments_lexer": "ipython3",
   "version": "3.9.7"
  },
  "orig_nbformat": 4,
  "vscode": {
   "interpreter": {
    "hash": "b67c5afb4a213e8fbdf683749ef35faca1ebc3e9a9bee2db524cf59386cbbd09"
   }
  }
 },
 "nbformat": 4,
 "nbformat_minor": 2
}
